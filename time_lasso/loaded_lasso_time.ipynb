{
 "metadata": {
  "name": "",
  "signature": "sha256:158451acceb03cfe2f797f49eab30c244873bd0482b9e53604fd83d4a145c739"
 },
 "nbformat": 3,
 "nbformat_minor": 0,
 "worksheets": [
  {
   "cells": [
    {
     "cell_type": "code",
     "collapsed": false,
     "input": [
      "# Copyright (c) 2014 Steve Yadlowsky, Preetum Nakkarin.\n",
      "# Licensed under MIT License.\n",
      "# More information including the exact terms of the License\n",
      "# can be found in the file COPYING in the project root directory.\n",
      "import numpy as np\n",
      "import time\n",
      "import operator\n",
      "import scipy.sparse\n",
      "import cPickle as pickle\n",
      "import sys\n",
      "import os\n",
      "import glob\n",
      "import numpy as np\n",
      "from sklearn.feature_extraction.text import TfidfVectorizer\n",
      "\n",
      "\n",
      "class IHTClassifier(object):\n",
      "\n",
      "    def __init__(self):\n",
      "        self.training_time = 0.0\n",
      "        self.beta = None\n",
      "\n",
      "    def card(self, x):\n",
      "        return np.sum(x != 0)\n",
      "\n",
      "    def train(self, X, y, card=100, verbose=False):\n",
      "        start = time.time()\n",
      "        if verbose:\n",
      "            print \"Preconditioning matrix\"\n",
      "        whitened_X, feature_avg = self.whiten_features(X)\n",
      "        lsv = float(self.compute_lsv(whitened_X, feature_avg))\n",
      "        if verbose:\n",
      "            print \"Matching pursuits\"\n",
      "        x_hat = self.matching_pursuit_sparse(y, whitened_X / lsv, feature_avg / lsv, card)\n",
      "        if verbose:\n",
      "            print \"Running iterative hard thresholding\"\n",
      "        self.beta = self.AIHT_sparse(y, whitened_X / lsv, x_hat, card, feature_avg / lsv) / lsv\n",
      "\n",
      "        self.training_time += time.time() - start\n",
      "\n",
      "    def whiten_features(self, X):\n",
      "        X = X.tocsr(copy=True)\n",
      "        row_avg = np.bincount(X.indices, weights=X.data)\n",
      "        row_avg /= float(X.shape[0])\n",
      "        row_norm = np.bincount(X.indices, weights=(X.data - row_avg[X.indices]) ** 2)\n",
      "        nonzeros_in_each_column = np.diff(X.tocsc().indptr)\n",
      "        avg_norm = ((float(X.shape[0]) * np.ones(X.shape[1])) -\n",
      "                    nonzeros_in_each_column) * (row_avg ** 2)\n",
      "        row_norm += avg_norm\n",
      "        row_norm = np.array([np.sqrt(x) if x != 0 else 1 for x in row_norm])\n",
      "        row_avg /= row_norm\n",
      "        X.data /= np.take(row_norm, X.indices)\n",
      "        feature_avg = np.squeeze(row_avg)\n",
      "\n",
      "        return X, feature_avg\n",
      "\n",
      "    def compute_lsv(self, X, feature_avg):\n",
      "        def matmuldyad(v):\n",
      "            return X.dot(v) - feature_avg.dot(v)\n",
      "\n",
      "        def rmatmuldyad(v):\n",
      "            return X.T.dot(v) - v.sum() * feature_avg\n",
      "        normalized_lin_op = scipy.sparse.linalg.LinearOperator(X.shape, matmuldyad, rmatmuldyad)\n",
      "\n",
      "        def matvec_XH_X(v):\n",
      "            return normalized_lin_op.rmatvec(normalized_lin_op.matvec(v))\n",
      "\n",
      "        which = 'LM'\n",
      "        v0 = None\n",
      "        maxiter = None\n",
      "        return_singular_vectors = False\n",
      "\n",
      "        XH_X = scipy.sparse.linalg.LinearOperator(\n",
      "            matvec=matvec_XH_X, dtype=X.dtype, shape=(X.shape[1], X.shape[1]))\n",
      "        eigvals = scipy.sparse.linalg.eigs(\n",
      "            XH_X, k=1, tol=0, maxiter=None, ncv=10, which=which, v0=v0, return_eigenvectors=False)\n",
      "        lsv = np.sqrt(eigvals)\n",
      "        return lsv[0].real\n",
      "\n",
      "    def matching_pursuit_sparse(self, y, X, feature_avg, k, tol=10 ** -10):\n",
      "        '''\n",
      "        Matching Pursuit\n",
      "        '''\n",
      "        r = y\n",
      "        X = X.tocsc()\n",
      "        err_norm = np.linalg.norm(r, 2)\n",
      "        err_norm_prev = 0\n",
      "        beta = np.zeros(X.shape[1])\n",
      "        while self.card(beta) < k:\n",
      "            all_inner_products = X.T.dot(r) - np.sum(r) * feature_avg\n",
      "            max_index, max_abs_inner_product = max(\n",
      "                enumerate(np.abs(all_inner_products)), key=operator.itemgetter(1))\n",
      "            g = X[:, max_index]\n",
      "            g = np.squeeze(np.asarray(g.todense())) - feature_avg[max_index]\n",
      "            a = all_inner_products[max_index]\n",
      "            a /= np.linalg.norm(g, 2) ** 2\n",
      "            beta[max_index] += a\n",
      "            r = r - a * g\n",
      "            err_norm_prev = err_norm\n",
      "            err_norm = np.linalg.norm(r, 2)\n",
      "            if np.abs(err_norm - err_norm_prev) <= tol:\n",
      "                break\n",
      "        return beta\n",
      "\n",
      "    def thresholder(self, y, m):\n",
      "        sort_y = sorted(np.abs(y))\n",
      "        thresh = sort_y[-m]\n",
      "\n",
      "        non_thresholded_indices = (np.abs(y) > thresh)\n",
      "        n_nonzero_indices = sum(non_thresholded_indices)\n",
      "        if n_nonzero_indices < m:\n",
      "            collisions = np.where((np.abs(y) == thresh))[0]\n",
      "            passed = np.random.choice(collisions, m - n_nonzero_indices)\n",
      "            non_thresholded_indices[passed] = 1\n",
      "\n",
      "        y_new = non_thresholded_indices * y\n",
      "\n",
      "        return y_new, thresh\n",
      "\n",
      "    def AIHT_sparse(self, y, X, beta, k, feature_avg=None, alpha=0, example_weights=None, max_iters=10000, tol=10 ** -16):\n",
      "        \"\"\"Solves DORE accelerated IHT with a sparse matrix X.\n",
      "        \"\"\"\n",
      "        m, n = X.shape\n",
      "        y = np.squeeze(np.asarray(y))\n",
      "        err_norm_prev = 0\n",
      "        beta_0 = beta\n",
      "        beta_prev = beta\n",
      "        X_beta = 0\n",
      "        X_beta_prev = 0\n",
      "        X_beta_twice_prev = 0\n",
      "\n",
      "        if feature_avg is None:\n",
      "            feature_avg = np.zeros(n)\n",
      "\n",
      "        if example_weights is None:\n",
      "            example_weights = np.ones(m)\n",
      "\n",
      "        for iter_ in xrange(max_iters):\n",
      "            X_beta_twice_prev = X_beta_prev\n",
      "            X_beta_prev = X_beta\n",
      "            X_beta = (X.dot(beta) - feature_avg.dot(beta))\n",
      "            X_beta = np.squeeze(np.asarray(X_beta))\n",
      "            err = y - example_weights * X_beta\n",
      "            err_reg = -alpha * beta\n",
      "            norm_change = ((np.linalg.norm(beta - beta_prev) ** 2) / n)\n",
      "            print err.dot(err) + err_reg.dot(err_reg), norm_change, np.linalg.norm(beta)\n",
      "\n",
      "            if iter_ > 0 and (norm_change <= tol):\n",
      "                break\n",
      "\n",
      "            beta_t = beta + np.squeeze(np.asarray(X.T.dot(err))) - \\\n",
      "                err.sum() * feature_avg + alpha * err_reg\n",
      "            beta_t = np.squeeze(np.asarray(beta_t))\n",
      "\n",
      "            beta_t, thresh = self.thresholder(beta_t, k)\n",
      "            X_beta = X.dot(beta_t) - feature_avg.dot(beta_t)\n",
      "            X_beta = np.squeeze(X_beta)\n",
      "            err = y - example_weights * X_beta\n",
      "            err_reg = -alpha * beta_t\n",
      "\n",
      "            beta_t_star = beta_t\n",
      "            if iter_ > 2:\n",
      "                delta_X_beta = X_beta - X_beta_prev\n",
      "                delta_regularization = alpha * (beta_t - beta)\n",
      "                dp = delta_X_beta.dot(example_weights * delta_X_beta) + \\\n",
      "                    delta_regularization.dot(delta_regularization)\n",
      "                if dp > 0:\n",
      "                    a1 = (delta_X_beta.dot(err) + delta_regularization.dot(err_reg)) / dp\n",
      "                    X_beta_1 = (1 + a1) * X_beta - a1 * X_beta_prev\n",
      "                    beta_1 = beta_t + a1 * (beta_t - beta)\n",
      "                    err_1 = y - example_weights * X_beta_1\n",
      "                    err_1_reg = -alpha * beta_1\n",
      "\n",
      "                    delta_X_beta = X_beta_1 - X_beta_twice_prev\n",
      "                    delta_regularization = alpha * (beta_1 - beta_prev)\n",
      "                    dp = delta_X_beta.dot(example_weights * delta_X_beta) + \\\n",
      "                        delta_regularization.dot(delta_regularization)\n",
      "                    if dp > 0:\n",
      "                        a2 = (delta_X_beta.dot(err_1) + delta_regularization.dot(err_1_reg)) / dp\n",
      "                        beta_2 = beta_1 + a2 * (beta_1 - beta_prev)\n",
      "                        beta_2, thresh = self.thresholder(beta_2, k)\n",
      "\n",
      "                        X_beta_2 = X.dot(beta_2) - feature_avg.dot(beta_2)\n",
      "                        X_beta_2 = np.squeeze(np.asarray(X_beta_2))\n",
      "                        err_2 = y - example_weights * X_beta_2\n",
      "                        err_reg_2 = -alpha * beta_2\n",
      "\n",
      "                        if (err_2.dot(err_2) + err_reg_2.dot(err_reg_2)) / (err.dot(err) + err_reg.dot(err_reg)) < 1:\n",
      "                            beta_t_star = beta_2\n",
      "                            X_beta = X_beta_2\n",
      "\n",
      "            beta_prev = beta\n",
      "            beta = beta_t_star\n",
      "\n",
      "        return beta"
     ],
     "language": "python",
     "metadata": {},
     "outputs": [],
     "prompt_number": 1
    },
    {
     "cell_type": "code",
     "collapsed": false,
     "input": [
      "end_year = 2003\n",
      "start_year = 1992\n",
      "subset_files = 200\n",
      "\n",
      "query = unicode('vector')\n",
      "words_weights = []\n",
      "\n",
      "for current_year in range(start_year, end_year + 1):\n",
      "    print \"\\nFor year \" + str(current_year)\n",
      "\n",
      "    query_presence_indicators = []\n",
      "\n",
      "    # Create the indicator column\n",
      "    for i in range((current_year - start_year) * subset_files):\n",
      "        query_presence_indicators.append(-1)\n",
      "    for i in range((current_year - start_year) * subset_files, (current_year - start_year + 1) * subset_files):\n",
      "        query_presence_indicators.append(1)\n",
      "    for i in range((current_year - start_year + 1) * subset_files, subset_files * (start_year - end_year)):\n",
      "        query_presence_indicators.append(-1)\n",
      "\n",
      "    print(\"Number of documents\", len(query_presence_indicators))\n",
      "    print(\"Number of times query appears in all documents: \", sum(\n",
      "        [1 if x == 1 else 0 for x in query_presence_indicators]))\n",
      "\n",
      "    # Load features\n",
      "    with open(str(current_year) + '_features.dat', 'rb') as infile:\n",
      "        features = pickle.load(infile)\n",
      "    infile.close()\n",
      "\n",
      "    # Load precomputed sparse A matrix\n",
      "    with open(str(current_year) + '_sparse.dat', 'rb') as infile:\n",
      "        sparse_matrix = pickle.load(infile)\n",
      "    infile.close()\n",
      "\n",
      "    b = query_presence_indicators\n",
      "    classifier = IHTClassifier()\n",
      "    classifier.train(sparse_matrix, b, verbose=True)\n",
      "    IHT_weights = classifier.beta\n",
      "\n",
      "    ####################################################################################\n",
      "    # Sorts words by their weights of the above computed portion                       #\n",
      "    ####################################################################################\n",
      "\n",
      "    print(\"IHT Keywords\")\n",
      "    all_terms = [(x, IHT_weights[i]) for i, x in enumerate(features)]\n",
      "    all_terms.sort(key=lambda x: x[1], reverse=True)\n",
      "    words_weights.append(all_terms[:20])\n",
      "    print([x[0] for x in all_terms[:20]])"
     ],
     "language": "python",
     "metadata": {},
     "outputs": [
      {
       "output_type": "stream",
       "stream": "stdout",
       "text": [
        "\n",
        "For year 1992\n",
        "('Number of documents', 200)\n",
        "('Number of times query appears in all documents: ', 200)\n",
        "Preconditioning matrix\n",
        "Matching pursuits\n",
        "Running iterative hard thresholding\n",
        "200.0"
       ]
      },
      {
       "output_type": "stream",
       "stream": "stdout",
       "text": [
        " 0.0 7.9217899479e-14\n",
        "200.0 1.28742094682e-31 7.98353032151e-14\n",
        "IHT Keywords\n",
        "[u'obtain', u'zero', u'change', u'connection', u'preprint', u'previous', u'related', u'transformation', u'view', u'initial', u'product', u'analysis', u'check', u'chiral', u'goes', u'leads', u'national', u'note', u'parameter', u'remains']\n",
        "\n",
        "For year 1993\n",
        "('Number of documents', 400)\n",
        "('Number of times query appears in all documents: ', 200)\n",
        "Preconditioning matrix\n",
        "Matching pursuits\n",
        "Running iterative hard thresholding"
       ]
      },
      {
       "output_type": "stream",
       "stream": "stdout",
       "text": [
        "\n",
        "93.7359979989 0.0 77.5473860816\n",
        "92.7026522499 0.00054313136356 77.8861000559\n",
        "91.7537272291 0.000498298566977 78.2216953839\n",
        "90.8791591687 0.000458861776585 78.5535640627\n",
        "79.9228560706 0.299222416562 88.4361294968\n",
        "76.5738455315 0.0856381237759 93.7411942881\n",
        "75.7645689497 0.0196005381773 94.9658752876\n",
        "75.481633221"
       ]
      },
      {
       "output_type": "stream",
       "stream": "stdout",
       "text": [
        " 0.00849869164632 95.2448830451\n",
        "75.3853865864 0.0028154917798 95.347048127\n",
        "75.3613713007 0.000573419610795 95.399631894\n",
        "75.3519425727 0.000271709970437 95.4288861745\n",
        "75.3494383257 6.88254467962e-05 95.4685448604\n",
        "75.3487094907 1.98158369294e-05 95.4888768311\n",
        "75.3485038093 5.41937190699e-06 95.4916027665\n",
        "75.3484435906"
       ]
      },
      {
       "output_type": "stream",
       "stream": "stdout",
       "text": [
        " 1.62212650487e-06 95.491208713\n",
        "75.3484249172 4.86060865243e-07 95.491728158\n",
        "75.3484189946 1.65193213916e-07 95.4926486413\n",
        "75.3484174836 3.9363495066e-08 95.492551756\n",
        "75.3484171232 9.2924679386e-09 95.4924326571\n",
        "75.348417034 2.45179582436e-09 95.4924060112\n",
        "75.3484170105 6.87629630799e-10 95.4924128903\n",
        "75.3484170057"
       ]
      },
      {
       "output_type": "stream",
       "stream": "stdout",
       "text": [
        " 1.41306167035e-10 95.4924007801\n",
        "75.3484170043 4.34425572703e-11 95.4924049442\n",
        "75.3484170041 8.65990573271e-12 95.4923990748\n",
        "75.348417004 2.18937700988e-12 95.492397633\n",
        "75.348417004 5.22887491269e-13 95.4923969475\n",
        "75.348417004 2.142246394e-13 95.4923962537\n",
        "75.348417004 3.53528488412e-14 95.4923966219\n",
        "75.348417004 5.08425045727e-15 95.4923966907\n",
        "75.348417004"
       ]
      },
      {
       "output_type": "stream",
       "stream": "stdout",
       "text": [
        " 1.00485098498e-15 95.492396668\n",
        "75.348417004 1.24130389081e-18 95.492396665\n",
        "IHT Keywords\n",
        "[u'jan', u'fundamental', u'extend', u'formula', u'geometry', u'center', u'mean', u'understood', u'specify', u'grateful', u'curved', u'spectral', u'role', u'simply', u'stress', u'statement', u'exactly', u'graph', u'noted', u'prime']\n",
        "\n",
        "For year 1994\n",
        "('Number of documents', 600)\n",
        "('Number of times query appears in all documents: ', 200)\n",
        "Preconditioning matrix\n",
        "Matching pursuits"
       ]
      },
      {
       "output_type": "stream",
       "stream": "stdout",
       "text": [
        "\n",
        "Running iterative hard thresholding"
       ]
      },
      {
       "output_type": "stream",
       "stream": "stdout",
       "text": [
        "\n",
        "250.178218351 0.0 77.3053258375\n",
        "248.927006066 0.000657538589137 77.6191128018\n",
        "247.78650228 0.000598708672478 77.931758446\n",
        "246.742589214 0.000547487166829 78.2423620833\n",
        "234.735985925 0.301927510028 87.1034651052\n",
        "232.39508633 0.0392519915088 90.3806850788\n",
        "231.803593045 0.0107060746039 91.5554521642\n",
        "231.654344782 0.00356957455778 91.4887858223\n",
        "231.62411934"
       ]
      },
      {
       "output_type": "stream",
       "stream": "stdout",
       "text": [
        " 0.000559480931681 91.3912757683\n",
        "231.616089112 0.000151482257955 91.37217137\n",
        "231.61422791 3.93937201601e-05 91.3951637818\n",
        "231.613849201 8.13778548923e-06 91.4125154977\n",
        "231.613761204 2.01509005154e-06 91.4137872263\n",
        "231.613744863 3.83174886079e-07 91.4120525934\n",
        "231.613740927 8.12594352075e-08 91.4111177058\n",
        "231.613740112"
       ]
      },
      {
       "output_type": "stream",
       "stream": "stdout",
       "text": [
        " 1.64908081957e-08 91.4109705922\n",
        "231.613739956 2.82491964191e-09 91.4111590539\n",
        "231.613739931 4.85260019655e-10 91.4111128495\n",
        "231.613739926 9.59527819654e-11 91.411126411\n",
        "231.613739925 2.40995516068e-11 91.4111299205\n",
        "231.613739924 8.81694558182e-12 91.4111226237\n",
        "231.613739924 2.10985349482e-12 91.4111214219\n",
        "231.613739924 5.23911610664e-13 91.4111223777\n",
        "231.613739924"
       ]
      },
      {
       "output_type": "stream",
       "stream": "stdout",
       "text": [
        " 9.89314244432e-14 91.4111233646\n",
        "231.613739924 1.54016572488e-15 91.4111234997\n",
        "231.613739924 9.960913502e-15 91.4111237381\n",
        "231.613739924 1.56068266702e-17 91.4111237483\n",
        "IHT Keywords\n",
        "[u'jan', u'relativistic', u'sum', u'calculus', u'asymptotic', u'space', u'braided', u'satisfied', u'exist', u'wilson', u'matrix', u'pure', u'frame', u'exhibit', u'contribute', u'subgroup', u'expectation', u'flag', u'cutoff', u'torsion']\n",
        "\n",
        "For year 1995\n",
        "('Number of documents', 800)\n",
        "('Number of times query appears in all documents: ', 200)\n",
        "Preconditioning matrix\n",
        "Matching pursuits"
       ]
      },
      {
       "output_type": "stream",
       "stream": "stdout",
       "text": [
        "\n",
        "Running iterative hard thresholding"
       ]
      },
      {
       "output_type": "stream",
       "stream": "stdout",
       "text": [
        "\n",
        "477.287831845 0.0 73.6293163386\n",
        "475.983655933 0.000687237276095 73.925643681\n",
        "474.808706312 0.000618631737353 74.2214007656\n",
        "473.746715493 0.000558728193773 74.5153818223\n",
        "463.287894519 0.227479143041 81.7650741006\n",
        "461.19735393 0.0413654301512 85.1031994474\n",
        "460.837281638 0.00562139472787 85.6731917895\n",
        "460.758477222 0.00149470562772 85.707656328\n",
        "460.747944836"
       ]
      },
      {
       "output_type": "stream",
       "stream": "stdout",
       "text": [
        " 0.000220197682058 85.6087514403\n",
        "460.746837976 1.8826705266e-05 85.6122779479\n",
        "460.746617674 3.98026327809e-06 85.6219737396\n",
        "460.746568879 8.54663405403e-07 85.6243250044\n",
        "460.74656075 1.42494018027e-07 85.6244612172\n",
        "460.746559071 3.29387569644e-08 85.6246700434\n",
        "460.746558792"
       ]
      },
      {
       "output_type": "stream",
       "stream": "stdout",
       "text": [
        " 4.79510109781e-09 85.6246144451\n",
        "460.746558726 1.34491215628e-09 85.624619765\n",
        "460.746558715 2.10409080101e-10 85.6246160114\n",
        "460.746558713 3.98674888206e-11 85.6246298217\n",
        "460.746558713 4.97331479558e-12 85.6246314641\n",
        "460.746558713 7.25105148015e-13 85.6246318824\n",
        "460.746558713 1.53311795934e-13 85.6246312068\n",
        "460.746558713"
       ]
      },
      {
       "output_type": "stream",
       "stream": "stdout",
       "text": [
        " 7.83851130422e-15 85.6246311702\n",
        "460.746558713 9.4886473384e-18 85.6246311766\n",
        "IHT Keywords\n",
        "[u'functional', u'auxiliary', u'flow', u'evidence', u'condition', u'real', u'massive', u'special', u'scalar', u'grateful', u'ultraviolet', u'world', u'understanding', u'conventional', u'jan', u'possess', u'average', u'gauss', u'studied', u'relativistic']\n",
        "\n",
        "For year 1996\n",
        "('Number of documents', 1000)\n",
        "('Number of times query appears in all documents: ', 200)\n",
        "Preconditioning matrix\n",
        "Matching pursuits"
       ]
      },
      {
       "output_type": "stream",
       "stream": "stdout",
       "text": [
        "\n",
        "Running iterative hard thresholding"
       ]
      },
      {
       "output_type": "stream",
       "stream": "stdout",
       "text": [
        "\n",
        "668.95538058 0.0 73.8162445582\n",
        "668.103696413 0.000447716430918 73.9688361822\n",
        "667.328974456 0.000406974220343 74.1232253321\n",
        "666.622344263 0.000370971783448 74.2786020293\n",
        "658.986453828 0.181106521439 78.8745636308\n",
        "657.892046366 0.0180314136339 80.5000410878\n",
        "657.669531356 0.0034236018001 80.9114561455\n",
        "657.625204263 0.000801803691063 80.9340778891\n",
        "657.616816339"
       ]
      },
      {
       "output_type": "stream",
       "stream": "stdout",
       "text": [
        " 0.00013001915564 80.8612011804\n",
        "657.615086943 2.7423327482e-05 80.8575722365\n",
        "657.614795484 5.52325887978e-06 80.8652043627\n",
        "657.614743734 9.75844223829e-07 80.8643590862\n",
        "657.614738465 9.39206062042e-08 80.8638014822\n",
        "657.61473763 1.50132460573e-08 80.8633403713\n",
        "657.614737518 2.14197150979e-09 80.8630989266\n",
        "657.614737504"
       ]
      },
      {
       "output_type": "stream",
       "stream": "stdout",
       "text": [
        " 2.6732585961e-10 80.8630921113\n",
        "657.614737502 3.53718103526e-11 80.8630733397\n",
        "657.614737502 6.68076977988e-12 80.8630588291\n",
        "657.614737502 1.92965108495e-12 80.8630464082\n",
        "657.614737502 5.09608614345e-13 80.8630444125\n",
        "657.614737502"
       ]
      },
      {
       "output_type": "stream",
       "stream": "stdout",
       "text": [
        " 1.06840774126e-13 80.8630439807\n",
        "657.614737502 1.62723112633e-14 80.8630439706\n",
        "657.614737502 7.74930198864e-18 80.8630439663\n",
        "IHT Keywords\n",
        "[u'weak', u'massless', u'electric', u'coming', u'gauge', u'base', u'concerning', u'type', u'writing', u'research', u'heat', u'killing', u'negative', u'orthogonal', u'duality', u'fixed', u'notation', u'picture', u'construct', u'singular']\n",
        "\n",
        "For year 1997\n",
        "('Number of documents', 1200)\n",
        "('Number of times query appears in all documents: ', 200)\n",
        "Preconditioning matrix\n",
        "Matching pursuits"
       ]
      },
      {
       "output_type": "stream",
       "stream": "stdout",
       "text": [
        "\n",
        "Running iterative hard thresholding"
       ]
      },
      {
       "output_type": "stream",
       "stream": "stdout",
       "text": [
        "\n",
        "899.448378631 0.0 69.6194142677\n",
        "898.525656713 0.000487009983789 69.6900324981\n",
        "897.699784556 0.000435523891245 69.7723426644\n",
        "896.958123665 0.000390811428516 69.8642307831\n",
        "890.133985113 0.139351136833 72.7134172283\n",
        "889.066259717 0.0174538163348 75.0466064078\n",
        "888.886684051 0.00297020767164 75.4190478099\n",
        "888.856932176 0.000541797220131 75.380818829\n",
        "888.851429457"
       ]
      },
      {
       "output_type": "stream",
       "stream": "stdout",
       "text": [
        " 7.95105078433e-05 75.3484344042\n",
        "888.850212234 2.09028214645e-05 75.3265608334\n",
        "888.850065186 2.31752326973e-06 75.3247080021\n",
        "888.850043252 3.36684537973e-07 75.326810027\n",
        "888.85003986 6.03805201327e-08 75.3264476034\n",
        "888.850039433 7.25412557243e-09 75.3262183659\n",
        "888.850039369 1.12893635808e-09 75.3260256986\n",
        "888.85003936"
       ]
      },
      {
       "output_type": "stream",
       "stream": "stdout",
       "text": [
        " 1.68975614692e-10 75.3259485449\n",
        "888.850039359 2.60260820214e-11 75.3259472778\n",
        "888.850039359 2.62360269825e-12 75.3259460637\n",
        "888.850039359 1.96893843294e-13 75.3259458121\n",
        "888.850039359 4.67501930022e-14 75.325945438\n",
        "888.850039359 8.11257692775e-15 75.3259453571\n",
        "888.850039359 6.83801724439e-16 75.3259454673\n",
        "888.850039359"
       ]
      },
      {
       "output_type": "stream",
       "stream": "stdout",
       "text": [
        " 1.22844732029e-18 75.3259454718\n",
        "IHT Keywords\n",
        "[u'recent', u'electric', u'considering', u'strength', u'direction', u'branch', u'subset', u'elliptic', u'spectral', u'fundamental', u'appearance', u'matrices', u'dynamical', u'residue', u'intermediate', u'induced', u'intersection', u'perturbative', u'contain', u'write']\n",
        "\n",
        "For year 1998\n",
        "('Number of documents', 1400)\n",
        "('Number of times query appears in all documents: ', 200)\n",
        "Preconditioning matrix\n",
        "Matching pursuits"
       ]
      },
      {
       "output_type": "stream",
       "stream": "stdout",
       "text": [
        "\n",
        "Running iterative hard thresholding"
       ]
      },
      {
       "output_type": "stream",
       "stream": "stdout",
       "text": [
        "\n",
        "1109.2027691 0.0 65.8126524479\n",
        "1108.50766451 0.000368537256975 65.8246355837\n",
        "1107.89446839 0.000324846357964 65.8471303522\n",
        "1107.35175978 0.000287283901476 65.8783858819\n",
        "1103.00629285 0.0781520019234 67.0860527983\n",
        "1102.34173148 0.0112268608866 68.5414792382\n",
        "1102.26506504 0.00115670426079 68.661734518\n",
        "1102.2549292"
       ]
      },
      {
       "output_type": "stream",
       "stream": "stdout",
       "text": [
        " 0.000164638645626 68.5782587286\n",
        "1102.25341049 2.46172800141e-05 68.5483842938\n",
        "1102.25322639 2.95853157852e-06 68.539784721\n",
        "1102.25319307 4.88515207869e-07 68.5415954199\n",
        "1102.25318801 7.1699188404e-08 68.5411785804\n",
        "1102.25318704"
       ]
      },
      {
       "output_type": "stream",
       "stream": "stdout",
       "text": [
        " 1.70058241701e-08 68.5411196322\n",
        "1102.25318692 1.98924721947e-09 68.5409989953\n",
        "1102.25318691 2.02000310863e-10 68.5409589752\n",
        "1102.25318691 2.63755529918e-11 68.5409599376\n",
        "1102.25318691"
       ]
      },
      {
       "output_type": "stream",
       "stream": "stdout",
       "text": [
        " 3.86189000623e-12 68.540962711\n",
        "1102.25318691 6.68205615996e-13 68.5409634505\n",
        "1102.25318691 1.07067953028e-13 68.5409626126\n",
        "1102.25318691 3.52095517168e-17 68.5409626129\n",
        "IHT Keywords\n",
        "[u'breaking', u'direction', u'anomaly', u'multiplet', u'microscopic', u'various', u'circle', u'series', u'configuration', u'parallel', u'bulk', u'wall', u'file', u'frame', u'matrix', u'maximal', u'coulomb', u'gas', u'holomorphic', u'standard']\n",
        "\n",
        "For year 1999\n",
        "('Number of documents', 1600)\n",
        "('Number of times query appears in all documents: ', 200)\n",
        "Preconditioning matrix"
       ]
      },
      {
       "output_type": "stream",
       "stream": "stdout",
       "text": [
        "\n",
        "Matching pursuits"
       ]
      },
      {
       "output_type": "stream",
       "stream": "stdout",
       "text": [
        "\n",
        "Running iterative hard thresholding"
       ]
      },
      {
       "output_type": "stream",
       "stream": "stdout",
       "text": [
        "\n",
        "1354.49706713 0.0 60.3473361863\n",
        "1353.89203728 0.000321035640748 60.4173474946\n",
        "1353.35773975 0.000283263203423 60.49567681\n",
        "1352.88432118 0.000250793588092 60.5806463683\n",
        "1349.05744576 0.069499399364 62.6648760321\n",
        "1348.59406518 0.00647423779368 64.1743752674\n",
        "1348.52294212 0.000912259710536 64.5826140235\n",
        "1348.51223241 0.000149360765553 64.6010417724\n",
        "1348.51000569"
       ]
      },
      {
       "output_type": "stream",
       "stream": "stdout",
       "text": [
        " 3.71881101114e-05 64.5900847335\n",
        "1348.50972936 4.6818881657e-06 64.589113029\n",
        "1348.50970465 4.08460645398e-07 64.588667744\n",
        "1348.50970115 6.25567868187e-08 64.5892429845\n",
        "1348.50970075 6.35200511752e-09 64.5891979424\n",
        "1348.5097007"
       ]
      },
      {
       "output_type": "stream",
       "stream": "stdout",
       "text": [
        " 7.8081178285e-10 64.5890799461\n",
        "1348.50970069 1.43440485386e-10 64.589096056\n",
        "1348.50970069 1.4695802069e-11 64.5890862947\n",
        "1348.50970069 1.23695716276e-12 64.5890851045\n",
        "1348.50970069 3.40937099175e-13 64.589086198\n",
        "1348.50970069 8.69128787663e-14 64.5890873689\n",
        "1348.50970069"
       ]
      },
      {
       "output_type": "stream",
       "stream": "stdout",
       "text": [
        " 4.16620919062e-15 64.5890871203\n",
        "1348.50970069 1.34332222235e-17 64.5890871266\n",
        "IHT Keywords\n",
        "[u'correspondence', u'quantization', u'sitter', u'projection', u'explain', u'numerical', u'bulk', u'quadratic', u'torus', u'breaking', u'relative', u'momenta', u'type', u'thermal', u'confinement', u'actually', u'commuting', u'radial', u'component', u'real']\n",
        "\n",
        "For year 2000\n",
        "('Number of documents', 1800)\n",
        "('Number of times query appears in all documents: ', 200)\n",
        "Preconditioning matrix\n",
        "Matching pursuits"
       ]
      },
      {
       "output_type": "stream",
       "stream": "stdout",
       "text": [
        "\n",
        "Running iterative hard thresholding"
       ]
      },
      {
       "output_type": "stream",
       "stream": "stdout",
       "text": [
        "\n",
        "1583.07458226 0.0 58.0337368552\n",
        "1582.30532951 0.000407750891433 58.1488695295\n",
        "1581.6230375 0.00036133431068 58.2723580349\n",
        "1581.01574455 0.000321353981702 58.4022790032\n",
        "1575.88529436 0.0970252295257 61.5615054504\n",
        "1575.17658261 0.0104820685733 63.5260608676\n",
        "1575.09102755 0.00112132527775 63.9185486189\n",
        "1575.07694317"
       ]
      },
      {
       "output_type": "stream",
       "stream": "stdout",
       "text": [
        " 0.000220129729083 63.9813114422\n",
        "1575.07496188 2.81101825064e-05 63.9629074573\n",
        "1575.07454162 6.40712752091e-06 63.9543233318\n",
        "1575.07448966 8.38907664728e-07 63.9524339368\n",
        "1575.07448314 1.03124931192e-07 63.9524994441\n",
        "1575.0744824 1.08901793418e-08 63.9528372153\n",
        "1575.0744823"
       ]
      },
      {
       "output_type": "stream",
       "stream": "stdout",
       "text": [
        " 1.50969101267e-09 63.9529651894\n",
        "1575.07448229 1.82056431355e-10 63.9529782518\n",
        "1575.07448229 1.96837231585e-11 63.9529816873\n",
        "1575.07448229 1.57821601979e-12 63.9529819026\n",
        "1575.07448229 1.34206293052e-13 63.9529831372\n",
        "1575.07448229 3.41778907464e-14 63.9529830227\n",
        "1575.07448229"
       ]
      },
      {
       "output_type": "stream",
       "stream": "stdout",
       "text": [
        " 1.84917153007e-15 63.9529830352\n",
        "1575.07448229 2.00599346304e-17 63.9529830407\n",
        "IHT Keywords\n",
        "[u'bulk', u'fig', u'noncommutative', u'form', u'field', u'classes', u'alternative', u'frame', u'discrete', u'untwisted', u'norm', u'electromagnetic', u'leading', u'effectively', u'special', u'type', u'variation', u'naturally', u'grant', u'tension']\n",
        "\n",
        "For year 2001\n",
        "('Number of documents', 2000)\n",
        "('Number of times query appears in all documents: ', 200)\n",
        "Preconditioning matrix\n",
        "Matching pursuits"
       ]
      },
      {
       "output_type": "stream",
       "stream": "stdout",
       "text": [
        "\n",
        "Running iterative hard thresholding"
       ]
      },
      {
       "output_type": "stream",
       "stream": "stdout",
       "text": [
        "\n",
        "1766.18779809 0.0 57.4851811777\n",
        "1765.55577666 0.000335174551985 57.6213654172\n",
        "1764.99433894 0.000297575022564 57.7570277786\n",
        "1764.49447577 0.000264798223933 57.8915218952\n",
        "1760.32034263 0.0781816485378 60.8545404786\n",
        "1759.86499411 0.00731111497561 61.7266871834\n",
        "1759.8252311"
       ]
      },
      {
       "output_type": "stream",
       "stream": "stdout",
       "text": [
        " 0.000524561977873 61.8750182107\n",
        "1759.81692439 0.000114525756429 61.8845408014\n",
        "1759.81523592 2.89375508775e-05 61.8338527618\n",
        "1759.81498311 3.80189098187e-06 61.8217569671\n",
        "1759.81493809 8.31302188055e-07 61.8182581905\n",
        "1759.8149282 1.94164172114e-07 61.818436545\n",
        "1759.8149261 3.93712417655e-08 61.8176488792\n",
        "1759.81492576"
       ]
      },
      {
       "output_type": "stream",
       "stream": "stdout",
       "text": [
        " 5.65690987563e-09 61.8170766323\n",
        "1759.81492572 6.95023007306e-10 61.8169883907\n",
        "1759.81492571 9.13513855999e-11 61.8169290003\n",
        "1759.81492571 1.12837344563e-11 61.8169226137\n",
        "1759.81492571 1.12852245978e-12 61.8169154733\n",
        "1759.81492571 9.59877140918e-14 61.816916185\n",
        "1759.81492571"
       ]
      },
      {
       "output_type": "stream",
       "stream": "stdout",
       "text": [
        " 2.8949484277e-14 61.8169165835\n",
        "1759.81492571 2.79057970866e-17 61.8169165622\n",
        "IHT Keywords\n",
        "[u'noncommutative', u'bulk', u'unstable', u'exact', u'fractional', u'wrapped', u'extra', u'relativistic', u'flow', u'correspondence', u'tension', u'irreducible', u'compact', u'split', u'modification', u'combined', u'sphere', u'field', u'derivative', u'research']\n",
        "\n",
        "For year 2002\n",
        "('Number of documents', 2200)\n",
        "('Number of times query appears in all documents: ', 200)\n",
        "Preconditioning matrix\n",
        "Matching pursuits"
       ]
      },
      {
       "output_type": "stream",
       "stream": "stdout",
       "text": [
        "\n",
        "Running iterative hard thresholding"
       ]
      },
      {
       "output_type": "stream",
       "stream": "stdout",
       "text": [
        "\n",
        "2012.2070901 0.0 53.8548470862\n",
        "2011.64729281 0.000296774659355 54.0120408825\n",
        "2011.14912093 0.000263901163632 54.170784223\n",
        "2010.70446125 0.00023539245284 54.3299738177\n",
        "2006.87476384 0.0737999816794 57.8183615497\n",
        "2006.48210974 0.00507851205672 59.0581036596\n",
        "2006.41200503 0.00103994290252 59.4000338487\n",
        "2006.4049977"
       ]
      },
      {
       "output_type": "stream",
       "stream": "stdout",
       "text": [
        " 0.000112833721435 59.3828267603\n",
        "2006.40418459 1.07430976632e-05 59.3621832077\n",
        "2006.40405774 1.89086744166e-06 59.3538324901\n",
        "2006.40404284 2.2355638287e-07 59.3536104825\n",
        "2006.40404125 2.78487229947e-08 59.3538120963\n",
        "2006.40404109 2.53308378731e-09 59.3538905782\n",
        "2006.40404108"
       ]
      },
      {
       "output_type": "stream",
       "stream": "stdout",
       "text": [
        " 1.95426661489e-10 59.3539151342\n",
        "2006.40404108 2.01991056962e-11 59.3539037668\n",
        "2006.40404108 1.98486073953e-12 59.3539013898\n",
        "2006.40404108 1.54643178646e-13 59.3538997557\n",
        "2006.40404108 2.70749546886e-14 59.3538995325\n",
        "2006.40404108"
       ]
      },
      {
       "output_type": "stream",
       "stream": "stdout",
       "text": [
        " 8.25185273101e-16 59.3538995206\n",
        "2006.40404108 3.43706801811e-18 59.3538995224\n",
        "IHT Keywords\n",
        "[u'bulk', u'multiple', u'commutative', u'deformation', u'established', u'cosmological', u'allow', u'ghost', u'stationary', u'orthogonal', u'ratio', u'main', u'discussion', u'universe', u'stability', u'cubic', u'divergent', u'written', u'logarithmic', u'kink']\n",
        "\n",
        "For year 2003\n",
        "('Number of documents', 2400)\n",
        "('Number of times query appears in all documents: ', 200)\n",
        "Preconditioning matrix\n",
        "Matching pursuits"
       ]
      },
      {
       "output_type": "stream",
       "stream": "stdout",
       "text": [
        "\n",
        "Running iterative hard thresholding"
       ]
      },
      {
       "output_type": "stream",
       "stream": "stdout",
       "text": [
        "\n",
        "2231.23116735 0.0 51.1002705062\n",
        "2230.77083731 0.000244464969657 51.0595985206\n",
        "2230.36405496 0.000215850789269 51.0318663075\n",
        "2230.00342972"
       ]
      },
      {
       "output_type": "stream",
       "stream": "stdout",
       "text": [
        " 0.00019121607626 51.0152743898\n",
        "2227.0784308 0.0533405641124 51.3686949517\n",
        "2226.73379912"
       ]
      },
      {
       "output_type": "stream",
       "stream": "stdout",
       "text": [
        " 0.00482701690612 52.4836894342\n",
        "2226.67480769 0.000776065456681 52.8187894382\n",
        "2226.6655502 0.000158639656078 52.8631432914\n",
        "2226.66442889"
       ]
      },
      {
       "output_type": "stream",
       "stream": "stdout",
       "text": [
        " 1.93653263456e-05 52.8663390913\n",
        "2226.66429949 1.95189626479e-06 52.8667844286\n",
        "2226.66428532 2.18249899835e-07 52.8677439781\n",
        "2226.66428363"
       ]
      },
      {
       "output_type": "stream",
       "stream": "stdout",
       "text": [
        " 2.38354430184e-08 52.8675443703\n",
        "2226.66428342 3.21402409596e-09 52.8674123862\n",
        "2226.66428339"
       ]
      },
      {
       "output_type": "stream",
       "stream": "stdout",
       "text": [
        " 5.14024222249e-10 52.8673804093\n",
        "2226.66428338 4.81883160791e-11 52.867370429\n",
        "2226.66428338 4.49758277498e-12 52.8673647754\n",
        "2226.66428338"
       ]
      },
      {
       "output_type": "stream",
       "stream": "stdout",
       "text": [
        " 3.75118714853e-13 52.8673624838\n",
        "2226.66428338 5.81516536729e-14 52.8673616668\n",
        "2226.66428338 9.55051899715e-17 52.8673616187\n",
        "IHT Keywords"
       ]
      },
      {
       "output_type": "stream",
       "stream": "stdout",
       "text": [
        "\n",
        "[u'behavior', u'decay', u'alternative', u'stability', u'sitter', u'series', u'upper', u'plane', u'torus', u'express', u'imaginary', u'oscillator', u'algebra', u'entropy', u'avoid', u'extra', u'technique', u'noncommutative', u'file', u'homogeneous']\n"
       ]
      }
     ],
     "prompt_number": 2
    },
    {
     "cell_type": "code",
     "collapsed": false,
     "input": [
      "# Creating Visualization Data\n",
      "\n",
      "# Get 30 words\n",
      "stair_words = []\n",
      "# Take two words from the early half\n",
      "for i in range(6):\n",
      "    count = 0\n",
      "    k = 0\n",
      "    # There are only 20 words from each year. Don't want duplicates\n",
      "    while count != 2 and k < 20:\n",
      "        to_add = str(words_weights[i][k][0])\n",
      "        if to_add not in stair_words:\n",
      "            stair_words.append(to_add)\n",
      "            count += 1\n",
      "        k += 1\n",
      "# Take 3 words from the later half\n",
      "for i in range(6, 12):\n",
      "    count = 0\n",
      "    k = 0\n",
      "    while count != 3 and k < 20:\n",
      "        to_add = str(words_weights[i][k][0])\n",
      "        if to_add not in stair_words:\n",
      "            stair_words.append(to_add)\n",
      "            count += 1\n",
      "        k += 1\n",
      "\n",
      "# Get weights\n",
      "stair_data = []\n",
      "for word in stair_words:\n",
      "    year_data = []\n",
      "    for i in range(12):\n",
      "        cur_data = words_weights[i]\n",
      "        found_word = False\n",
      "        for k in range(len(cur_data)):\n",
      "            if cur_data[k][0] == word:\n",
      "                year_data.append(float(cur_data[k][1]))\n",
      "                found_word = True\n",
      "        # if word not in year then use 0\n",
      "        if not found_word:\n",
      "            year_data.append(float(0))\n",
      "    stair_data.append(year_data)\n",
      "\n",
      "print \"Staircase words to use: \"\n",
      "print stair_words\n",
      "print \"\\nWeights for the words: \"\n",
      "print stair_data\n"
     ],
     "language": "python",
     "metadata": {},
     "outputs": [
      {
       "output_type": "stream",
       "stream": "stdout",
       "text": [
        "Staircase words to use: \n",
        "['obtain', 'zero', 'jan', 'fundamental', 'relativistic', 'sum', 'functional', 'auxiliary', 'weak', 'massless', 'recent', 'electric', 'breaking', 'direction', 'anomaly', 'correspondence', 'quantization', 'sitter', 'bulk', 'fig', 'noncommutative', 'unstable', 'exact', 'fractional', 'multiple', 'commutative', 'deformation', 'behavior', 'decay', 'alternative']\n",
        "\n",
        "Weights for the words: \n",
        "[[1.5658951995572495e-14, 0.0, 0.0, 0.0, 0.0, 0.0, 0.0, 0.0, 0.0, 0.0, 0.0, 0.0], [3.5188656169825834e-16, 0.0, 0.0, 0.0, 0.0, 0.0, 0.0, 0.0, 0.0, 0.0, 0.0, 0.0], [0.0, 4.102031480671726, 4.01802786258963, 2.293787409173959, 0.0, 0.0, 0.0, 0.0, 0.0, 0.0, 0.0, 0.0], [0.0, 3.0265145789677597, 0.0, 0.0, 0.0, 2.2602700389253614, 0.0, 0.0, 0.0, 0.0, 0.0, 0.0], [0.0, 0.0, 3.7982590413235235, 2.1860521923392415, 0.0, 0.0, 0.0, 0.0, 0.0, 2.0764703668565576, 0.0, 0.0], [0.0, 0.0, 3.089736250992549, 0.0, 0.0, 0.0, 0.0, 0.0, 0.0, 0.0, 0.0, 0.0], [0.0, 0.0, 0.0, 3.7390663561630255, 0.0, 0.0, 0.0, 0.0, 0.0, 0.0, 0.0, 0.0], [0.0, 0.0, 0.0, 3.6741549117401178, 0.0, 0.0, 0.0, 0.0, 0.0, 0.0, 0.0, 0.0], [0.0, 0.0, 0.0, 0.0, 3.6773327387741586, 0.0, 0.0, 0.0, 0.0, 0.0, 0.0, 0.0], [0.0, 0.0, 0.0, 0.0, 2.8470913042676975, 0.0, 0.0, 0.0, 0.0, 0.0, 0.0, 0.0], [0.0, 0.0, 0.0, 0.0, 0.0, 3.331201318492254, 0.0, 0.0, 0.0, 0.0, 0.0, 0.0], [0.0, 0.0, 0.0, 0.0, 2.6182054438646727, 2.6598072008012426, 0.0, 0.0, 0.0, 0.0, 0.0, 0.0], [0.0, 0.0, 0.0, 0.0, 0.0, 0.0, 3.566477359190832, 1.968994796190902, 0.0, 0.0, 0.0, 0.0], [0.0, 0.0, 0.0, 0.0, 0.0, 2.5507637009191764, 2.997437582421488, 0.0, 0.0, 0.0, 0.0, 0.0], [0.0, 0.0, 0.0, 0.0, 0.0, 0.0, 2.653613331205912, 0.0, 0.0, 0.0, 0.0, 0.0], [0.0, 0.0, 0.0, 0.0, 0.0, 0.0, 0.0, 3.7871229525710888, 0.0, 2.001472767048235, 0.0, 0.0], [0.0, 0.0, 0.0, 0.0, 0.0, 0.0, 0.0, 2.852334851848117, 0.0, 0.0, 0.0, 0.0], [0.0, 0.0, 0.0, 0.0, 0.0, 0.0, 0.0, 2.849058937019907, 0.0, 0.0, 0.0, 1.816879100303478], [0.0, 0.0, 0.0, 0.0, 0.0, 0.0, 2.053399528760376, 2.2105494744333916, 3.793095678291651, 3.4773488857061214, 4.073938580142916, 0.0], [0.0, 0.0, 0.0, 0.0, 0.0, 0.0, 0.0, 0.0, 2.5646486868401985, 0.0, 0.0, 0.0], [0.0, 0.0, 0.0, 0.0, 0.0, 0.0, 0.0, 0.0, 2.542810612886341, 4.573463899182286, 0.0, 1.4802859577948284], [0.0, 0.0, 0.0, 0.0, 0.0, 0.0, 0.0, 0.0, 0.0, 2.2158575888623497, 0.0, 0.0], [0.0, 0.0, 0.0, 0.0, 0.0, 0.0, 0.0, 0.0, 0.0, 2.1684388671021257, 0.0, 0.0], [0.0, 0.0, 0.0, 0.0, 0.0, 0.0, 0.0, 0.0, 0.0, 2.1516305165646017, 0.0, 0.0], [0.0, 0.0, 0.0, 0.0, 0.0, 0.0, 0.0, 0.0, 0.0, 0.0, 2.5228360473022833, 0.0], [0.0, 0.0, 0.0, 0.0, 0.0, 0.0, 0.0, 0.0, 0.0, 0.0, 2.3400759357811918, 0.0], [0.0, 0.0, 0.0, 0.0, 0.0, 0.0, 0.0, 0.0, 0.0, 0.0, 2.325552283494432, 0.0], [0.0, 0.0, 0.0, 0.0, 0.0, 0.0, 0.0, 0.0, 0.0, 0.0, 0.0, 2.7353239713805633], [0.0, 0.0, 0.0, 0.0, 0.0, 0.0, 0.0, 0.0, 0.0, 0.0, 0.0, 2.176508438799284], [0.0, 0.0, 0.0, 0.0, 0.0, 0.0, 0.0, 0.0, 2.0318919226407477, 0.0, 0.0, 2.1128553690339986]]\n"
       ]
      }
     ],
     "prompt_number": 3
    }
   ],
   "metadata": {}
  }
 ]
}