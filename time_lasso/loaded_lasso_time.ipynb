{
 "metadata": {
  "name": "",
  "signature": "sha256:4a067896b12e9780c45bf0bed15f6d458a4144ca0f3ee56b0b8d16fb5f1dd97a"
 },
 "nbformat": 3,
 "nbformat_minor": 0,
 "worksheets": [
  {
   "cells": [
    {
     "cell_type": "code",
     "collapsed": false,
     "input": [
      "# Copyright (c) 2014 Steve Yadlowsky, Preetum Nakkarin.\n",
      "# Licensed under MIT License.\n",
      "# More information including the exact terms of the License\n",
      "# can be found in the file COPYING in the project root directory.\n",
      "import numpy as np\n",
      "import time\n",
      "import operator\n",
      "import scipy.sparse\n",
      "import cPickle as pickle\n",
      "import sys\n",
      "import os\n",
      "import glob\n",
      "import numpy as np\n",
      "from sklearn.feature_extraction.text import TfidfVectorizer\n",
      "\n",
      "\n",
      "class IHTClassifier(object):\n",
      "\n",
      "    def __init__(self):\n",
      "        self.training_time = 0.0\n",
      "        self.beta = None\n",
      "\n",
      "    def card(self, x):\n",
      "        return np.sum(x != 0)\n",
      "\n",
      "    def train(self, X, y, card=100, verbose=False):\n",
      "        start = time.time()\n",
      "        if verbose:\n",
      "            print \"Preconditioning matrix\"\n",
      "        whitened_X, feature_avg = self.whiten_features(X)\n",
      "        lsv = float(self.compute_lsv(whitened_X, feature_avg))\n",
      "        if verbose:\n",
      "            print \"Matching pursuits\"\n",
      "        x_hat = self.matching_pursuit_sparse(y, whitened_X / lsv, feature_avg / lsv, card)\n",
      "        if verbose:\n",
      "            print \"Running iterative hard thresholding\"\n",
      "        self.beta = self.AIHT_sparse(y, whitened_X / lsv, x_hat, card, feature_avg / lsv) / lsv\n",
      "\n",
      "        self.training_time += time.time() - start\n",
      "\n",
      "    def whiten_features(self, X):\n",
      "        X = X.tocsr(copy=True)\n",
      "        row_avg = np.bincount(X.indices, weights=X.data)\n",
      "        row_avg /= float(X.shape[0])\n",
      "        row_norm = np.bincount(X.indices, weights=(X.data - row_avg[X.indices]) ** 2)\n",
      "        nonzeros_in_each_column = np.diff(X.tocsc().indptr)\n",
      "        avg_norm = ((float(X.shape[0]) * np.ones(X.shape[1])) -\n",
      "                    nonzeros_in_each_column) * (row_avg ** 2)\n",
      "        row_norm += avg_norm\n",
      "        row_norm = np.array([np.sqrt(x) if x != 0 else 1 for x in row_norm])\n",
      "        row_avg /= row_norm\n",
      "        X.data /= np.take(row_norm, X.indices)\n",
      "        feature_avg = np.squeeze(row_avg)\n",
      "\n",
      "        return X, feature_avg\n",
      "\n",
      "    def compute_lsv(self, X, feature_avg):\n",
      "        def matmuldyad(v):\n",
      "            return X.dot(v) - feature_avg.dot(v)\n",
      "\n",
      "        def rmatmuldyad(v):\n",
      "            return X.T.dot(v) - v.sum() * feature_avg\n",
      "        normalized_lin_op = scipy.sparse.linalg.LinearOperator(X.shape, matmuldyad, rmatmuldyad)\n",
      "\n",
      "        def matvec_XH_X(v):\n",
      "            return normalized_lin_op.rmatvec(normalized_lin_op.matvec(v))\n",
      "\n",
      "        which = 'LM'\n",
      "        v0 = None\n",
      "        maxiter = None\n",
      "        return_singular_vectors = False\n",
      "\n",
      "        XH_X = scipy.sparse.linalg.LinearOperator(\n",
      "            matvec=matvec_XH_X, dtype=X.dtype, shape=(X.shape[1], X.shape[1]))\n",
      "        eigvals = scipy.sparse.linalg.eigs(\n",
      "            XH_X, k=1, tol=0, maxiter=None, ncv=10, which=which, v0=v0, return_eigenvectors=False)\n",
      "        lsv = np.sqrt(eigvals)\n",
      "        return lsv[0].real\n",
      "\n",
      "    def matching_pursuit_sparse(self, y, X, feature_avg, k, tol=10 ** -10):\n",
      "        '''\n",
      "        Matching Pursuit\n",
      "        '''\n",
      "        r = y\n",
      "        X = X.tocsc()\n",
      "        err_norm = np.linalg.norm(r, 2)\n",
      "        err_norm_prev = 0\n",
      "        beta = np.zeros(X.shape[1])\n",
      "        while self.card(beta) < k:\n",
      "            all_inner_products = X.T.dot(r) - np.sum(r) * feature_avg\n",
      "            max_index, max_abs_inner_product = max(\n",
      "                enumerate(np.abs(all_inner_products)), key=operator.itemgetter(1))\n",
      "            g = X[:, max_index]\n",
      "            g = np.squeeze(np.asarray(g.todense())) - feature_avg[max_index]\n",
      "            a = all_inner_products[max_index]\n",
      "            a /= np.linalg.norm(g, 2) ** 2\n",
      "            beta[max_index] += a\n",
      "            r = r - a * g\n",
      "            err_norm_prev = err_norm\n",
      "            err_norm = np.linalg.norm(r, 2)\n",
      "            if np.abs(err_norm - err_norm_prev) <= tol:\n",
      "                break\n",
      "        return beta\n",
      "\n",
      "    def thresholder(self, y, m):\n",
      "        sort_y = sorted(np.abs(y))\n",
      "        thresh = sort_y[-m]\n",
      "\n",
      "        non_thresholded_indices = (np.abs(y) > thresh)\n",
      "        n_nonzero_indices = sum(non_thresholded_indices)\n",
      "        if n_nonzero_indices < m:\n",
      "            collisions = np.where((np.abs(y) == thresh))[0]\n",
      "            passed = np.random.choice(collisions, m - n_nonzero_indices)\n",
      "            non_thresholded_indices[passed] = 1\n",
      "\n",
      "        y_new = non_thresholded_indices * y\n",
      "\n",
      "        return y_new, thresh\n",
      "\n",
      "    def AIHT_sparse(self, y, X, beta, k, feature_avg=None, alpha=0, example_weights=None, max_iters=10000, tol=10 ** -16):\n",
      "        \"\"\"Solves DORE accelerated IHT with a sparse matrix X.\n",
      "        \"\"\"\n",
      "        m, n = X.shape\n",
      "        y = np.squeeze(np.asarray(y))\n",
      "        err_norm_prev = 0\n",
      "        beta_0 = beta\n",
      "        beta_prev = beta\n",
      "        X_beta = 0\n",
      "        X_beta_prev = 0\n",
      "        X_beta_twice_prev = 0\n",
      "\n",
      "        if feature_avg is None:\n",
      "            feature_avg = np.zeros(n)\n",
      "\n",
      "        if example_weights is None:\n",
      "            example_weights = np.ones(m)\n",
      "\n",
      "        for iter_ in xrange(max_iters):\n",
      "            X_beta_twice_prev = X_beta_prev\n",
      "            X_beta_prev = X_beta\n",
      "            X_beta = (X.dot(beta) - feature_avg.dot(beta))\n",
      "            X_beta = np.squeeze(np.asarray(X_beta))\n",
      "            err = y - example_weights * X_beta\n",
      "            err_reg = -alpha * beta\n",
      "            norm_change = ((np.linalg.norm(beta - beta_prev) ** 2) / n)\n",
      "            print err.dot(err) + err_reg.dot(err_reg), norm_change, np.linalg.norm(beta)\n",
      "\n",
      "            if iter_ > 0 and (norm_change <= tol):\n",
      "                break\n",
      "\n",
      "            beta_t = beta + np.squeeze(np.asarray(X.T.dot(err))) - \\\n",
      "                err.sum() * feature_avg + alpha * err_reg\n",
      "            beta_t = np.squeeze(np.asarray(beta_t))\n",
      "\n",
      "            beta_t, thresh = self.thresholder(beta_t, k)\n",
      "            X_beta = X.dot(beta_t) - feature_avg.dot(beta_t)\n",
      "            X_beta = np.squeeze(X_beta)\n",
      "            err = y - example_weights * X_beta\n",
      "            err_reg = -alpha * beta_t\n",
      "\n",
      "            beta_t_star = beta_t\n",
      "            if iter_ > 2:\n",
      "                delta_X_beta = X_beta - X_beta_prev\n",
      "                delta_regularization = alpha * (beta_t - beta)\n",
      "                dp = delta_X_beta.dot(example_weights * delta_X_beta) + \\\n",
      "                    delta_regularization.dot(delta_regularization)\n",
      "                if dp > 0:\n",
      "                    a1 = (delta_X_beta.dot(err) + delta_regularization.dot(err_reg)) / dp\n",
      "                    X_beta_1 = (1 + a1) * X_beta - a1 * X_beta_prev\n",
      "                    beta_1 = beta_t + a1 * (beta_t - beta)\n",
      "                    err_1 = y - example_weights * X_beta_1\n",
      "                    err_1_reg = -alpha * beta_1\n",
      "\n",
      "                    delta_X_beta = X_beta_1 - X_beta_twice_prev\n",
      "                    delta_regularization = alpha * (beta_1 - beta_prev)\n",
      "                    dp = delta_X_beta.dot(example_weights * delta_X_beta) + \\\n",
      "                        delta_regularization.dot(delta_regularization)\n",
      "                    if dp > 0:\n",
      "                        a2 = (delta_X_beta.dot(err_1) + delta_regularization.dot(err_1_reg)) / dp\n",
      "                        beta_2 = beta_1 + a2 * (beta_1 - beta_prev)\n",
      "                        beta_2, thresh = self.thresholder(beta_2, k)\n",
      "\n",
      "                        X_beta_2 = X.dot(beta_2) - feature_avg.dot(beta_2)\n",
      "                        X_beta_2 = np.squeeze(np.asarray(X_beta_2))\n",
      "                        err_2 = y - example_weights * X_beta_2\n",
      "                        err_reg_2 = -alpha * beta_2\n",
      "\n",
      "                        if (err_2.dot(err_2) + err_reg_2.dot(err_reg_2)) / (err.dot(err) + err_reg.dot(err_reg)) < 1:\n",
      "                            beta_t_star = beta_2\n",
      "                            X_beta = X_beta_2\n",
      "\n",
      "            beta_prev = beta\n",
      "            beta = beta_t_star\n",
      "\n",
      "        return beta"
     ],
     "language": "python",
     "metadata": {},
     "outputs": [],
     "prompt_number": 1
    },
    {
     "cell_type": "code",
     "collapsed": false,
     "input": [
      "end_year = 2003\n",
      "start_year = 1992\n",
      "subset_files = 200\n",
      "\n",
      "words_weights = []\n",
      "\n",
      "for current_year in range(start_year, end_year + 1):\n",
      "    print \"\\nFor year \" + str(current_year)\n",
      "\n",
      "    query_presence_indicators = []\n",
      "\n",
      "    # Create the indicator column\n",
      "    for i in range((current_year - start_year) * subset_files):\n",
      "        query_presence_indicators.append(-1)\n",
      "    for i in range((current_year - start_year) * subset_files, (current_year - start_year + 1) * subset_files):\n",
      "        query_presence_indicators.append(1)\n",
      "    for i in range((current_year - start_year + 1) * subset_files, subset_files * (start_year - end_year)):\n",
      "        query_presence_indicators.append(-1)\n",
      "\n",
      "    print(\"Number of documents\", len(query_presence_indicators))\n",
      "\n",
      "    # Load features\n",
      "    with open(str(current_year) + '_features.dat', 'rb') as infile:\n",
      "        features = pickle.load(infile)\n",
      "    infile.close()\n",
      "\n",
      "    # Load precomputed sparse A matrix\n",
      "    with open(str(current_year) + '_sparse.dat', 'rb') as infile:\n",
      "        sparse_matrix = pickle.load(infile)\n",
      "    infile.close()\n",
      "\n",
      "    b = query_presence_indicators\n",
      "    classifier = IHTClassifier()\n",
      "    classifier.train(sparse_matrix, b, verbose=True)\n",
      "    IHT_weights = classifier.beta\n",
      "\n",
      "    ####################################################################################\n",
      "    # Sorts words by their weights of the above computed portion                       #\n",
      "    ####################################################################################\n",
      "\n",
      "    print(\"IHT Keywords\")\n",
      "    all_terms = [(x, IHT_weights[i]) for i, x in enumerate(features)]\n",
      "    all_terms.sort(key=lambda x: x[1], reverse=True)\n",
      "    words_weights.append(all_terms[:20])\n",
      "    print([x[0] for x in all_terms[:20]])"
     ],
     "language": "python",
     "metadata": {},
     "outputs": [
      {
       "output_type": "stream",
       "stream": "stdout",
       "text": [
        "\n",
        "For year 1992\n",
        "('Number of documents', 200)\n",
        "Preconditioning matrix\n",
        "Matching pursuits\n",
        "Running iterative hard thresholding\n",
        "200.0 0.0 5.67681754267e-14\n",
        "200.0 1.29320633049e-31 5.79396028824e-14\n",
        "IHT Keywords\n",
        "[u'define', u'model', u'field', u'form', u'simply', u'calculation', u'change', u'easily', u'infinite', u'limit', u'parameter', u'set', u'study', u'chosen', u'connection', u'energy', u'final', u'momentum', u'positive', u'procedure']\n",
        "\n",
        "For year 1993\n",
        "('Number of documents', 400)\n",
        "Preconditioning matrix"
       ]
      },
      {
       "output_type": "stream",
       "stream": "stdout",
       "text": [
        "\n",
        "Matching pursuits\n",
        "Running iterative hard thresholding"
       ]
      },
      {
       "output_type": "stream",
       "stream": "stdout",
       "text": [
        "\n",
        "93.7359979989 0.0 77.6880074884\n",
        "92.7063086472 0.000540610738166 78.026098787\n",
        "91.7604500861 0.000496142147381 78.3610903329\n",
        "90.8884627776 0.000457007382459 78.6923791944\n",
        "79.9275941697 0.299993099208 88.5905379212\n",
        "76.5749244191 0.0859657490722 93.9094930379\n",
        "75.7648832106 0.0196690697069 95.1376757082\n",
        "75.4817549574 0.00852551624657 95.4174605444\n",
        "75.3854218105 0.00282557850353 95.5198841896\n",
        "75.3613830011"
       ]
      },
      {
       "output_type": "stream",
       "stream": "stdout",
       "text": [
        " 0.000575444609145 95.572593638\n",
        "75.3519456013 0.0002726917875 95.6019040087\n",
        "75.349439237 6.90603426761e-05 95.641643235\n",
        "75.3487097564 1.98851052138e-05 95.6620271336\n",
        "75.3485038845 5.43851670608e-06 95.6647633505\n",
        "75.3484436163 1.62757253495e-06 95.6643684472\n",
        "75.3484249244 4.87828603845e-07 95.6648883962\n",
        "75.3484189965"
       ]
      },
      {
       "output_type": "stream",
       "stream": "stdout",
       "text": [
        " 1.65778531469e-07 95.6658111912\n",
        "75.348417484 3.95064666061e-08 95.6657143208\n",
        "75.3484171233 9.32556910343e-09 95.6655949392\n",
        "75.348417034 2.46017443428e-09 95.6655682152\n",
        "75.3484170105 6.90081077639e-10 95.6655751164\n",
        "75.3484170057 1.417651629e-10 95.6655629758\n",
        "75.3484170043 4.36097929797e-11 95.665567152\n",
        "75.3484170041 8.67428330389e-12 95.6655612711\n",
        "75.348417004"
       ]
      },
      {
       "output_type": "stream",
       "stream": "stdout",
       "text": [
        " 2.20801308863e-12 95.6655598249\n",
        "75.348417004 5.26440134867e-13 95.6655591303\n",
        "75.348417004 2.18160412667e-13 95.6655584321\n",
        "75.348417004 3.40766776773e-14 95.6655588005\n",
        "75.348417004 4.91893408908e-15 95.6655588782\n",
        "75.348417004 8.4974415658e-16 95.665558861\n",
        "75.348417004 3.68099582012e-16 95.6655588267\n",
        "75.348417004 6.72839837662e-19 95.6655588243\n",
        "IHT Keywords"
       ]
      },
      {
       "output_type": "stream",
       "stream": "stdout",
       "text": [
        "\n",
        "[u'jan', u'fundamental', u'extend', u'formula', u'geometry', u'center', u'mean', u'understood', u'specify', u'grateful', u'curved', u'spectral', u'role', u'simply', u'stress', u'statement', u'exactly', u'graph', u'noted', u'prime']\n",
        "\n",
        "For year 1994\n",
        "('Number of documents', 600)\n",
        "Preconditioning matrix\n",
        "Matching pursuits"
       ]
      },
      {
       "output_type": "stream",
       "stream": "stdout",
       "text": [
        "\n",
        "Running iterative hard thresholding"
       ]
      },
      {
       "output_type": "stream",
       "stream": "stdout",
       "text": [
        "\n",
        "250.178218351 0.0 77.3992592448\n",
        "248.929969414 0.00065527078902 77.7126569316\n",
        "247.791911314 0.000596780923575 78.0249192714\n",
        "246.750023679 0.000545838334204 78.3351506389\n",
        "234.739301614 0.302369831632 87.2056910692\n",
        "232.395790653 0.0393548852828 90.4892881958\n",
        "231.80371697 0.010732424896 91.6665925578\n",
        "231.654381139 0.00357636067536 91.6000171172\n",
        "231.624128875 0.000560762797675 91.5023507099\n",
        "231.616090904"
       ]
      },
      {
       "output_type": "stream",
       "stream": "stdout",
       "text": [
        " 0.000151854713009 91.4831875198\n",
        "231.614228266 3.94799379986e-05 91.5062070366\n",
        "231.61384928 8.15497087323e-06 91.5235880518\n",
        "231.613761217 2.01951324542e-06 91.5248643682\n",
        "231.613744868 3.83886599043e-07 91.5231277989\n",
        "231.613740928 8.14527223132e-08 91.5221911924\n",
        "231.613740113 1.65270151669e-08 91.5220436256\n",
        "231.613739956"
       ]
      },
      {
       "output_type": "stream",
       "stream": "stdout",
       "text": [
        " 2.83200372364e-09 91.522232417\n",
        "231.613739931 4.86348337684e-10 91.5221861278\n",
        "231.613739926 9.61720110166e-11 91.5221997431\n",
        "231.613739925 2.41272054838e-11 91.5222032337\n",
        "231.613739924 8.8419773227e-12 91.5221959268\n",
        "231.613739924 2.12634000248e-12 91.5221947244\n",
        "231.613739924 4.97527961973e-13 91.5221956516\n",
        "231.613739924 1.60911731214e-13 91.5221969411\n",
        "231.613739924"
       ]
      },
      {
       "output_type": "stream",
       "stream": "stdout",
       "text": [
        " 2.25596394876e-14 91.5221972567\n",
        "231.613739924 1.51086610643e-15 91.5221971496\n",
        "231.613739924 1.39375115547e-17 91.5221971565\n",
        "IHT Keywords\n",
        "[u'jan', u'relativistic', u'sum', u'calculus', u'asymptotic', u'space', u'braided', u'satisfied', u'exist', u'wilson', u'matrix', u'pure', u'frame', u'exhibit', u'contribute', u'subgroup', u'expectation', u'flag', u'cutoff', u'torsion']\n",
        "\n",
        "For year 1995\n",
        "('Number of documents', 800)\n",
        "Preconditioning matrix\n",
        "Matching pursuits"
       ]
      },
      {
       "output_type": "stream",
       "stream": "stdout",
       "text": [
        "\n",
        "Running iterative hard thresholding"
       ]
      },
      {
       "output_type": "stream",
       "stream": "stdout",
       "text": [
        "\n",
        "477.287831845 0.0 73.774875644\n",
        "475.988661474 0.000683826005505 74.0706028509\n",
        "474.8177351 0.000615820880319 74.3657668022\n",
        "473.758968868 0.000556409289788 74.6591728104\n",
        "463.291488638 0.228254091474 81.9225409599\n",
        "461.19814996 0.041541239849 85.2701404657\n",
        "460.837415996 0.0056488619262 85.8424128337\n",
        "460.758492083 0.00150154154025 85.8771571538\n",
        "460.74794681"
       ]
      },
      {
       "output_type": "stream",
       "stream": "stdout",
       "text": [
        " 0.000221110858924 85.7779986578\n",
        "460.746838375 1.89058406863e-05 85.7815162522\n",
        "460.746617771 3.99697360307e-06 85.7912367283\n",
        "460.746568894 8.58746123418e-07 85.793596971\n",
        "460.746560753 1.43116394347e-07 85.7937337242\n",
        "460.746559072 3.30786714757e-08 85.7939432053\n",
        "460.746558792"
       ]
      },
      {
       "output_type": "stream",
       "stream": "stdout",
       "text": [
        " 4.816354493e-09 85.7938875046\n",
        "460.746558726 1.35079420142e-09 85.7938928357\n",
        "460.746558715 2.11379333323e-10 85.7938890614\n",
        "460.746558713 4.00490645804e-11 85.7939029107\n",
        "460.746558713 4.8999058986e-12 85.7939045405\n",
        "460.746558713 7.40164275083e-13 85.7939049583\n",
        "460.746558713"
       ]
      },
      {
       "output_type": "stream",
       "stream": "stdout",
       "text": [
        " 1.52842641492e-13 85.7939042981\n",
        "460.746558713 5.99919936678e-15 85.7939042667\n",
        "460.746558713 8.90153434062e-15 85.7939044343\n",
        "460.746558713 1.01937656966e-17 85.7939044282\n",
        "IHT Keywords\n",
        "[u'functional', u'auxiliary', u'flow', u'evidence', u'condition', u'real', u'massive', u'special', u'scalar', u'grateful', u'ultraviolet', u'world', u'understanding', u'conventional', u'jan', u'possess', u'average', u'gauss', u'studied', u'relativistic']\n",
        "\n",
        "For year 1996\n",
        "('Number of documents', 1000)\n",
        "Preconditioning matrix\n",
        "Matching pursuits"
       ]
      },
      {
       "output_type": "stream",
       "stream": "stdout",
       "text": [
        "\n",
        "Running iterative hard thresholding"
       ]
      },
      {
       "output_type": "stream",
       "stream": "stdout",
       "text": [
        "\n",
        "668.95538058 0.0 73.9332130235\n",
        "668.106324644 0.000445843158093 74.0855544268\n",
        "667.333760135 0.000405395655411 74.2396865828\n",
        "666.628897069 0.000369639521492 74.3948055811\n",
        "658.988255075 0.181563865969 78.9976197207\n",
        "657.892448599 0.0180922890289 80.6269122495\n",
        "657.669594211 0.00343657779695 81.0395840799\n",
        "657.625219344"
       ]
      },
      {
       "output_type": "stream",
       "stream": "stdout",
       "text": [
        " 0.000804302285046 81.0623861221\n",
        "657.6168193 0.000130492090018 80.9893494369\n",
        "657.61508732 2.75268487549e-05 80.9856929475\n",
        "657.614795554 5.54058586155e-06 80.9933420074\n",
        "657.614743741 9.79250809881e-07 80.9924963397\n",
        "657.614738466 9.42176178533e-08 80.9919378007\n",
        "657.61473763 1.50645920119e-08 80.9914757769\n",
        "657.614737518"
       ]
      },
      {
       "output_type": "stream",
       "stream": "stdout",
       "text": [
        " 2.14899798825e-09 80.9912337922\n",
        "657.614737504 2.68206396913e-10 80.9912269448\n",
        "657.614737502 3.55237056546e-11 80.9912081406\n",
        "657.614737502 6.70782590832e-12 80.9911935857\n",
        "657.614737502 1.90736137943e-12 80.9911812315\n",
        "657.614737502 5.61355770564e-13 80.9911791424\n",
        "657.614737502"
       ]
      },
      {
       "output_type": "stream",
       "stream": "stdout",
       "text": [
        " 9.65648207491e-14 80.9911786067\n",
        "657.614737502 4.47487323497e-17 80.9911786164\n",
        "IHT Keywords\n",
        "[u'weak', u'massless', u'electric', u'coming', u'gauge', u'base', u'concerning', u'type', u'writing', u'research', u'heat', u'killing', u'negative', u'orthogonal', u'duality', u'fixed', u'notation', u'picture', u'construct', u'singular']\n",
        "\n",
        "For year 1997\n",
        "('Number of documents', 1200)\n",
        "Preconditioning matrix\n",
        "Matching pursuits"
       ]
      },
      {
       "output_type": "stream",
       "stream": "stdout",
       "text": [
        "\n",
        "Running iterative hard thresholding"
       ]
      },
      {
       "output_type": "stream",
       "stream": "stdout",
       "text": [
        "\n",
        "899.448378631 0.0 69.7522546024\n",
        "898.529069478 0.000484659172019 69.8227255534\n",
        "897.705900429 0.000433609608011 69.9048246135\n",
        "896.966370435 0.00038925203207 69.996457303\n",
        "890.1360898 0.139821655971 72.8493477562\n",
        "889.066594407 0.0175325098504 75.1890591741\n",
        "888.886733136 0.0029833633531 75.5629290278\n",
        "888.856945275"
       ]
      },
      {
       "output_type": "stream",
       "stream": "stdout",
       "text": [
        " 0.000543852453199 75.5246975199\n",
        "888.85143171 7.99018546011e-05 75.4922325633\n",
        "888.850212509 2.0997858031e-05 75.470295033\n",
        "888.85006523 2.32753536217e-06 75.4684326663\n",
        "888.850043257 3.38226254502e-07 75.4705406292\n",
        "888.850039861"
       ]
      },
      {
       "output_type": "stream",
       "stream": "stdout",
       "text": [
        " 6.06361111635e-08 75.4701777163\n",
        "888.850039433 7.28497009905e-09 75.4699480002\n",
        "888.850039369 1.13375000063e-09 75.4697548642\n",
        "888.85003936 1.69686418323e-10 75.4696774862\n",
        "888.850039359 2.61528528145e-11 75.4696762096\n",
        "888.850039359 2.68726272952e-12 75.4696749768\n",
        "888.850039359 1.66854056902e-13 75.4696747545\n",
        "888.850039359"
       ]
      },
      {
       "output_type": "stream",
       "stream": "stdout",
       "text": [
        " 2.84829928598e-14 75.4696744711\n",
        "888.850039359 3.55955570582e-17 75.4696744654\n",
        "IHT Keywords\n",
        "[u'recent', u'electric', u'considering', u'strength', u'direction', u'branch', u'subset', u'elliptic', u'spectral', u'fundamental', u'appearance', u'matrices', u'dynamical', u'residue', u'intermediate', u'induced', u'intersection', u'perturbative', u'contain', u'write']\n",
        "\n",
        "For year 1998\n",
        "('Number of documents', 1400)\n",
        "Preconditioning matrix\n",
        "Matching pursuits"
       ]
      },
      {
       "output_type": "stream",
       "stream": "stdout",
       "text": [
        "\n",
        "Running iterative hard thresholding"
       ]
      },
      {
       "output_type": "stream",
       "stream": "stdout",
       "text": [
        "\n",
        "1109.2027691 0.0 65.9277963219\n",
        "1108.51001366 0.000366874015073 65.9397490434\n",
        "1107.89861756 0.000323526301569 65.9621606845\n",
        "1107.35727376 0.000286238743203 65.9932951496\n",
        "1103.00740247 0.0784040937492 67.2020293262\n",
        "1102.34186909 0.0112716737765 68.6611186333\n",
        "1102.26508178 0.00116141546374 68.7819163352\n",
        "1102.2549318"
       ]
      },
      {
       "output_type": "stream",
       "stream": "stdout",
       "text": [
        " 0.000165265384783 68.6982777504\n",
        "1102.2534108 2.47169571741e-05 68.6683248156\n",
        "1102.25322645 2.9691469191e-06 68.6596995589\n",
        "1102.25319308 4.90630606425e-07 68.661513896\n",
        "1102.25318801 7.1999317294e-08 68.6610963436\n",
        "1102.25318704 1.70726053386e-08 68.6610372511\n",
        "1102.25318692 1.99706397691e-09 68.660916347\n",
        "1102.25318691"
       ]
      },
      {
       "output_type": "stream",
       "stream": "stdout",
       "text": [
        " 2.02745663138e-10 68.6608762209\n",
        "1102.25318691 2.64594622451e-11 68.660877176\n",
        "1102.25318691 3.87682659054e-12 68.6608799571\n",
        "1102.25318691 7.57076971819e-13 68.6608807398\n",
        "1102.25318691 6.78808082789e-14 68.6608800336\n",
        "1102.25318691 1.04858888423e-14 68.6608797891\n",
        "1102.25318691 4.10751042118e-18 68.6608797932\n",
        "IHT Keywords\n",
        "[u'breaking', u'direction', u'anomaly', u'multiplet', u'microscopic', u'various', u'circle', u'series', u'configuration', u'parallel', u'bulk', u'wall', u'file', u'frame', u'matrix', u'maximal', u'coulomb', u'gas', u'holomorphic', u'standard']\n",
        "\n",
        "For year 1999\n",
        "('Number of documents', 1600)\n",
        "Preconditioning matrix"
       ]
      },
      {
       "output_type": "stream",
       "stream": "stdout",
       "text": [
        "\n",
        "Matching pursuits"
       ]
      },
      {
       "output_type": "stream",
       "stream": "stdout",
       "text": [
        "\n",
        "Running iterative hard thresholding"
       ]
      },
      {
       "output_type": "stream",
       "stream": "stdout",
       "text": [
        "\n",
        "1354.49706713 0.0 60.4587876114\n",
        "1353.89419592 0.00031952439069 60.5286605133\n",
        "1353.36155664 0.000282062936104 60.6068078282\n",
        "1352.88939943 0.000249842330121 60.6915667132\n",
        "1349.05844442 0.0697402743171 62.7786891369\n",
        "1348.59423586"
       ]
      },
      {
       "output_type": "stream",
       "stream": "stdout",
       "text": [
        " 0.00650274666631 64.2920975166\n",
        "1348.52296473 0.000916680489077 64.7017970725\n",
        "1348.51223645 0.000150004277963 64.7203554648\n",
        "1348.51000615 3.73518287802e-05 64.7093730529\n",
        "1348.5097294 4.70174459995e-06 64.7083986083\n",
        "1348.50970466"
       ]
      },
      {
       "output_type": "stream",
       "stream": "stdout",
       "text": [
        " 4.10098182386e-07 64.7079518383\n",
        "1348.50970116 6.28101367758e-08 64.7085284787\n",
        "1348.50970075 6.37837949131e-09 64.7084835047\n",
        "1348.5097007 7.84319469846e-10 64.7083651614\n",
        "1348.50970069 1.44040326277e-10 64.7083813097\n",
        "1348.50970069"
       ]
      },
      {
       "output_type": "stream",
       "stream": "stdout",
       "text": [
        " 1.47249579453e-11 64.7083715296\n",
        "1348.50970069 1.22121782789e-12 64.7083703409\n",
        "1348.50970069 3.79053577138e-13 64.7083714974\n",
        "1348.50970069 1.85345354804e-14 64.7083719994\n",
        "1348.50970069 3.90512461686e-17 64.7083720227\n",
        "IHT Keywords\n",
        "[u'correspondence', u'quantization', u'sitter', u'projection', u'explain', u'numerical', u'bulk', u'quadratic', u'torus', u'breaking', u'relative', u'momenta', u'type', u'thermal', u'confinement', u'actually', u'commuting', u'radial', u'component', u'real']\n",
        "\n",
        "For year 2000\n",
        "('Number of documents', 1800)\n",
        "Preconditioning matrix"
       ]
      },
      {
       "output_type": "stream",
       "stream": "stdout",
       "text": [
        "\n",
        "Matching pursuits"
       ]
      },
      {
       "output_type": "stream",
       "stream": "stdout",
       "text": [
        "\n",
        "Running iterative hard thresholding"
       ]
      },
      {
       "output_type": "stream",
       "stream": "stdout",
       "text": [
        "\n",
        "1583.07458226 0.0 58.1377178243\n",
        "1582.30799533 0.000405876079543 58.2526328294\n",
        "1581.62777191 0.000359831795557 58.3758618355\n",
        "1581.02207226"
       ]
      },
      {
       "output_type": "stream",
       "stream": "stdout",
       "text": [
        " 0.000320150567601 58.505497995\n",
        "1575.8867237 0.0973382450892 61.6693439722\n",
        "1575.17676852 0.0105281257514 63.6391782565\n",
        "1575.09105299 0.0011263004474 64.0329516337\n",
        "1575.07694722"
       ]
      },
      {
       "output_type": "stream",
       "stream": "stdout",
       "text": [
        " 0.000221017714341 64.0959568677\n",
        "1575.07496273 2.82242766164e-05 64.0775240324\n",
        "1575.07454171 6.43641359865e-06 64.0689145909\n",
        "1575.07448967 8.42267425823e-07 64.0670198248\n",
        "1575.07448314"
       ]
      },
      {
       "output_type": "stream",
       "stream": "stdout",
       "text": [
        " 1.03549018741e-07 64.0670849554\n",
        "1575.0744824 1.09351934759e-08 64.0674234636\n",
        "1575.0744823 1.51623622698e-09 64.0675518127\n",
        "1575.07448229 1.8280078799e-10 64.0675649185\n",
        "1575.07448229 1.97846555844e-11 64.0675683652\n",
        "1575.07448229"
       ]
      },
      {
       "output_type": "stream",
       "stream": "stdout",
       "text": [
        " 1.52679994906e-12 64.0675685752\n",
        "1575.07448229 1.67922001976e-13 64.0675699363\n",
        "1575.07448229 1.24345377356e-14 64.0675698187\n",
        "1575.07448229 5.84028898473e-18 64.0675698136\n",
        "IHT Keywords\n",
        "[u'bulk', u'fig', u'noncommutative', u'form', u'field', u'classes', u'alternative', u'frame', u'discrete', u'untwisted', u'norm', u'electromagnetic', u'leading', u'effectively', u'special', u'type', u'variation', u'naturally', u'grant', u'tension']\n",
        "\n",
        "For year 2001\n",
        "('Number of documents', 2000)\n",
        "Preconditioning matrix"
       ]
      },
      {
       "output_type": "stream",
       "stream": "stdout",
       "text": [
        "\n",
        "Matching pursuits"
       ]
      },
      {
       "output_type": "stream",
       "stream": "stdout",
       "text": [
        "\n",
        "Running iterative hard thresholding"
       ]
      },
      {
       "output_type": "stream",
       "stream": "stdout",
       "text": [
        "\n",
        "1766.18779809 0.0 57.5926179145\n",
        "1765.55806234 0.000333581664343 57.7285381994\n",
        "1764.99840311 0.000296295488759 57.8639419019\n",
        "1764.49990765"
       ]
      },
      {
       "output_type": "stream",
       "stream": "stdout",
       "text": [
        " 0.000263774821954 57.9981881798\n",
        "1760.32116084 0.0784643381563 60.9671901545\n",
        "1759.86508013 0.00734291553641 61.8418004912\n",
        "1759.82525076 0.000526710836909 61.9906034154\n",
        "1759.81692737 0.000115080623237 62.000241963\n",
        "1759.81523644 2.90578608385e-05 61.9494372641\n",
        "1759.81498318"
       ]
      },
      {
       "output_type": "stream",
       "stream": "stdout",
       "text": [
        " 3.81916935542e-06 61.937303061\n",
        "1759.81493811 8.34474074309e-07 61.9337937133\n",
        "1759.81492821 1.94924165249e-07 61.9339725443\n",
        "1759.8149261 3.95390023411e-08 61.9331834197\n",
        "1759.81492576 5.68186744839e-09 61.9326095989\n",
        "1759.81492572"
       ]
      },
      {
       "output_type": "stream",
       "stream": "stdout",
       "text": [
        " 6.98018313145e-10 61.9325211066\n",
        "1759.81492571 9.17114595832e-11 61.9324615652\n",
        "1759.81492571 1.13050963026e-11 61.9324551612\n",
        "1759.81492571"
       ]
      },
      {
       "output_type": "stream",
       "stream": "stdout",
       "text": [
        " 1.1921074023e-12 61.9324478265\n",
        "1759.81492571 1.1685980357e-13 61.9324487702\n",
        "1759.81492571 3.13555363919e-15 61.932448865\n",
        "1759.81492571"
       ]
      },
      {
       "output_type": "stream",
       "stream": "stdout",
       "text": [
        " 4.03093326323e-15 61.9324488513\n",
        "1759.81492571 1.27658991739e-17 61.9324488552\n",
        "IHT Keywords"
       ]
      },
      {
       "output_type": "stream",
       "stream": "stdout",
       "text": [
        "\n",
        "[u'noncommutative', u'bulk', u'unstable', u'exact', u'fractional', u'wrapped', u'extra', u'relativistic', u'flow', u'correspondence', u'tension', u'irreducible', u'compact', u'split', u'modification', u'combined', u'sphere', u'field', u'derivative', u'research']\n",
        "\n",
        "For year 2002\n",
        "('Number of documents', 2200)\n",
        "Preconditioning matrix\n",
        "Matching pursuits"
       ]
      },
      {
       "output_type": "stream",
       "stream": "stdout",
       "text": [
        "\n",
        "Running iterative hard thresholding"
       ]
      },
      {
       "output_type": "stream",
       "stream": "stdout",
       "text": [
        "\n",
        "2012.2070901 0.0 53.9673664191\n",
        "2011.64955607 0.000295234376114 54.1242223357\n",
        "2011.15315341 0.000262662800409 54.2826206606\n",
        "2010.7098654 0.000234398879016 54.4414690135\n",
        "2006.87579945"
       ]
      },
      {
       "output_type": "stream",
       "stream": "stdout",
       "text": [
        " 0.0740963556991 57.9370238117\n",
        "2006.48226956 0.00510570665499 59.1808308126\n",
        "2006.41201845 0.00104558880514 59.5241163651\n",
        "2006.40499976 0.000113357916915 59.5069229494\n",
        "2006.40418487 1.08006161474e-05 59.4862215826\n",
        "2006.40405777 1.90066835431e-06 59.4778420252\n",
        "2006.40404284"
       ]
      },
      {
       "output_type": "stream",
       "stream": "stdout",
       "text": [
        " 2.24712267213e-07 59.4776182541\n",
        "2006.40404125 2.79797045322e-08 59.4778203717\n",
        "2006.40404109 2.54545348712e-09 59.4778990734\n",
        "2006.40404108 1.96413745593e-10 59.4779237205\n",
        "2006.40404108 2.02768484984e-11 59.4779123305\n",
        "2006.40404108 1.99642539355e-12 59.477909938\n",
        "2006.40404108 1.21486859622e-13 59.4779084883\n",
        "2006.40404108"
       ]
      },
      {
       "output_type": "stream",
       "stream": "stdout",
       "text": [
        " 4.94408671447e-14 59.4779080808\n",
        "2006.40404108 6.39864608947e-17 59.4779080747\n",
        "IHT Keywords\n",
        "[u'bulk', u'multiple', u'commutative', u'deformation', u'established', u'cosmological', u'allow', u'ghost', u'stationary', u'orthogonal', u'ratio', u'main', u'discussion', u'universe', u'stability', u'cubic', u'divergent', u'written', u'logarithmic', u'kink']\n",
        "\n",
        "For year 2003\n",
        "('Number of documents', 2400)\n",
        "Preconditioning matrix\n",
        "Matching pursuits"
       ]
      },
      {
       "output_type": "stream",
       "stream": "stdout",
       "text": [
        "\n",
        "Running iterative hard thresholding"
       ]
      },
      {
       "output_type": "stream",
       "stream": "stdout",
       "text": [
        "\n",
        "2231.23116735 0.0 51.2058741028\n",
        "2230.77267489 0.000243207201904 51.1652765049\n",
        "2230.36730626 0.000214853090624 51.1375409344\n",
        "2230.00775776 0.000190426905332 51.1208859854\n",
        "2227.0792558 0.0535547464671 51.4734522071\n",
        "2226.7339567 0.00485079247991 52.591422517\n",
        "2226.67482474 0.000780498331907 52.9278525545\n",
        "2226.66555224"
       ]
      },
      {
       "output_type": "stream",
       "stream": "stdout",
       "text": [
        " 0.000159390294612 52.9723820926\n",
        "2226.66442917 1.94554617139e-05 52.9755911153\n",
        "2226.66429952 1.96181907938e-06 52.9760374608\n",
        "2226.66428533 2.19298389634e-07 52.9770003378\n",
        "2226.66428363 2.3958537637e-08 52.9768003806\n",
        "2226.66428342 3.229844899e-09 52.9766679964\n",
        "2226.66428339 5.16519394716e-10 52.9766359137\n",
        "2226.66428338"
       ]
      },
      {
       "output_type": "stream",
       "stream": "stdout",
       "text": [
        " 4.84216337864e-11 52.9766259182\n",
        "2226.66428338 4.52540919261e-12 52.9766202391\n",
        "2226.66428338 4.10685237183e-13 52.9766178446\n",
        "2226.66428338 3.12009087647e-14 52.9766172666\n",
        "2226.66428338 4.33097852457e-17 52.9766172232\n",
        "IHT Keywords\n",
        "[u'behavior', u'decay', u'alternative', u'stability', u'sitter', u'series', u'upper', u'plane', u'torus', u'express', u'imaginary', u'oscillator', u'algebra', u'entropy', u'avoid', u'extra', u'technique', u'noncommutative', u'file', u'homogeneous']\n"
       ]
      }
     ],
     "prompt_number": 3
    },
    {
     "cell_type": "code",
     "collapsed": false,
     "input": [
      "# Creating Visualization Data\n",
      "\n",
      "# Get 30 words\n",
      "stair_words = []\n",
      "# Take two words from the early half\n",
      "for i in range(6):\n",
      "    count = 0\n",
      "    k = 0\n",
      "    # There are only 20 words from each year. Don't want duplicates\n",
      "    while count != 2 and k < 20:\n",
      "        to_add = str(words_weights[i][k][0])\n",
      "        if to_add not in stair_words:\n",
      "            stair_words.append(to_add)\n",
      "            count += 1\n",
      "        k += 1\n",
      "# Take 3 words from the later half\n",
      "for i in range(6, 12):\n",
      "    count = 0\n",
      "    k = 0\n",
      "    while count != 3 and k < 20:\n",
      "        to_add = str(words_weights[i][k][0])\n",
      "        if to_add not in stair_words:\n",
      "            stair_words.append(to_add)\n",
      "            count += 1\n",
      "        k += 1\n",
      "\n",
      "# Get weights\n",
      "stair_data = []\n",
      "for word in stair_words:\n",
      "    year_data = []\n",
      "    for i in range(12):\n",
      "        cur_data = words_weights[i]\n",
      "        found_word = False\n",
      "        for k in range(len(cur_data)):\n",
      "            if cur_data[k][0] == word:\n",
      "                year_data.append(float(cur_data[k][1]))\n",
      "                found_word = True\n",
      "        # if word not in year then use 0\n",
      "        if not found_word:\n",
      "            year_data.append(float(0))\n",
      "    stair_data.append(year_data)\n",
      "\n",
      "print \"Staircase words to use: \"\n",
      "print stair_words\n",
      "print \"\\nWeights for the words: \"\n",
      "print stair_data\n"
     ],
     "language": "python",
     "metadata": {},
     "outputs": [
      {
       "output_type": "stream",
       "stream": "stdout",
       "text": [
        "Staircase words to use: \n",
        "['define', 'model', 'jan', 'fundamental', 'relativistic', 'sum', 'functional', 'auxiliary', 'weak', 'massless', 'recent', 'electric', 'breaking', 'direction', 'anomaly', 'correspondence', 'quantization', 'sitter', 'bulk', 'fig', 'noncommutative', 'unstable', 'exact', 'fractional', 'multiple', 'commutative', 'deformation', 'behavior', 'decay', 'alternative']\n",
        "\n",
        "Weights for the words: \n",
        "[[1.1242110134213076e-14, 0.0, 0.0, 0.0, 0.0, 0.0, 0.0, 0.0, 0.0, 0.0, 0.0, 0.0], [4.3914492711769826e-16, 0.0, 0.0, 0.0, 0.0, 0.0, 0.0, 0.0, 0.0, 0.0, 0.0, 0.0], [0.0, 4.102031491826664, 4.0180279256263125, 2.293787430818311, 0.0, 0.0, 0.0, 0.0, 0.0, 0.0, 0.0, 0.0], [0.0, 3.0265145942527263, 0.0, 0.0, 0.0, 2.260270127704415, 0.0, 0.0, 0.0, 0.0, 0.0, 0.0], [0.0, 0.0, 3.798258987351208, 2.1860521988475354, 0.0, 0.0, 0.0, 0.0, 0.0, 2.0764703577752415, 0.0, 0.0], [0.0, 0.0, 3.0897363288923114, 0.0, 0.0, 0.0, 0.0, 0.0, 0.0, 0.0, 0.0, 0.0], [0.0, 0.0, 0.0, 3.739066312953772, 0.0, 0.0, 0.0, 0.0, 0.0, 0.0, 0.0, 0.0], [0.0, 0.0, 0.0, 3.674154990347814, 0.0, 0.0, 0.0, 0.0, 0.0, 0.0, 0.0, 0.0], [0.0, 0.0, 0.0, 0.0, 3.6773328678413586, 0.0, 0.0, 0.0, 0.0, 0.0, 0.0, 0.0], [0.0, 0.0, 0.0, 0.0, 2.8470913127685877, 0.0, 0.0, 0.0, 0.0, 0.0, 0.0, 0.0], [0.0, 0.0, 0.0, 0.0, 0.0, 3.3312013531657074, 0.0, 0.0, 0.0, 0.0, 0.0, 0.0], [0.0, 0.0, 0.0, 0.0, 2.6182054120986087, 2.659807098392195, 0.0, 0.0, 0.0, 0.0, 0.0, 0.0], [0.0, 0.0, 0.0, 0.0, 0.0, 0.0, 3.5664773173479603, 1.9689947402099712, 0.0, 0.0, 0.0, 0.0], [0.0, 0.0, 0.0, 0.0, 0.0, 2.5507636628644486, 2.9974376890521732, 0.0, 0.0, 0.0, 0.0, 0.0], [0.0, 0.0, 0.0, 0.0, 0.0, 0.0, 2.6536133308522905, 0.0, 0.0, 0.0, 0.0, 0.0], [0.0, 0.0, 0.0, 0.0, 0.0, 0.0, 0.0, 3.7871228531825856, 0.0, 2.0014727373675494, 0.0, 0.0], [0.0, 0.0, 0.0, 0.0, 0.0, 0.0, 0.0, 2.852334818884631, 0.0, 0.0, 0.0, 0.0], [0.0, 0.0, 0.0, 0.0, 0.0, 0.0, 0.0, 2.8490588961387617, 0.0, 0.0, 0.0, 1.8168789995650991], [0.0, 0.0, 0.0, 0.0, 0.0, 0.0, 2.053399592814923, 2.2105495015807435, 3.7930957054793173, 3.477348873825705, 4.07393862438556, 0.0], [0.0, 0.0, 0.0, 0.0, 0.0, 0.0, 0.0, 0.0, 2.5646487531067197, 0.0, 0.0, 0.0], [0.0, 0.0, 0.0, 0.0, 0.0, 0.0, 0.0, 0.0, 2.5428106591032233, 4.573463841000527, 0.0, 1.4802860040198074], [0.0, 0.0, 0.0, 0.0, 0.0, 0.0, 0.0, 0.0, 0.0, 2.2158576050800245, 0.0, 0.0], [0.0, 0.0, 0.0, 0.0, 0.0, 0.0, 0.0, 0.0, 0.0, 2.168438879845786, 0.0, 0.0], [0.0, 0.0, 0.0, 0.0, 0.0, 0.0, 0.0, 0.0, 0.0, 2.151630522249802, 0.0, 0.0], [0.0, 0.0, 0.0, 0.0, 0.0, 0.0, 0.0, 0.0, 0.0, 0.0, 2.5228360551296327, 0.0], [0.0, 0.0, 0.0, 0.0, 0.0, 0.0, 0.0, 0.0, 0.0, 0.0, 2.340075902329706, 0.0], [0.0, 0.0, 0.0, 0.0, 0.0, 0.0, 0.0, 0.0, 0.0, 0.0, 2.3255522724176676, 0.0], [0.0, 0.0, 0.0, 0.0, 0.0, 0.0, 0.0, 0.0, 0.0, 0.0, 0.0, 2.7353238983954626], [0.0, 0.0, 0.0, 0.0, 0.0, 0.0, 0.0, 0.0, 0.0, 0.0, 0.0, 2.1765084290760464], [0.0, 0.0, 0.0, 0.0, 0.0, 0.0, 0.0, 0.0, 2.031891857939022, 0.0, 0.0, 2.11285541718031]]\n"
       ]
      }
     ],
     "prompt_number": 4
    }
   ],
   "metadata": {}
  }
 ]
}