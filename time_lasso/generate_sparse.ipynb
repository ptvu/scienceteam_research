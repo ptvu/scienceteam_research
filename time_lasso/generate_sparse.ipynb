{
 "metadata": {
  "name": "",
  "signature": "sha256:31ac616fb2270397e7c47b7af9f48ebf40ac11e24797140ccaa8df658f121564"
 },
 "nbformat": 3,
 "nbformat_minor": 0,
 "worksheets": [
  {
   "cells": [
    {
     "cell_type": "code",
     "collapsed": false,
     "input": [
      "import sys\n",
      "import os\n",
      "import glob\n",
      "import numpy as np\n",
      "from sklearn.feature_extraction.text import TfidfVectorizer\n",
      "import cPickle as pickle\n",
      "import numpy as np\n",
      "import scipy.sparse\n",
      "\n",
      "START_K = 0\n",
      "K = 1000\n",
      "\n",
      "end_year = 2003\n",
      "start_year = 1992\n",
      "subset_files = 200\n",
      "\n",
      "# get all filenames for year\n",
      "all_file_names = []\n",
      "for yr in range(start_year, end_year + 1):\n",
      "    print \"on file year \" + str(yr)\n",
      "    year_files = glob.glob(str(yr) + \"/*\")\n",
      "    all_file_names += [year_files[:subset_files]]\n",
      "\n",
      "# Load valid english words\n",
      "valid_words = set()\n",
      "dictionary_file = open(\"words\")\n",
      "for word in dictionary_file:\n",
      "    word = word.lower().strip()\n",
      "    valid_words.add(word)\n",
      "\n",
      "# Load english stop words\n",
      "stop_words = set()\n",
      "stop_words_file = open(\"stop_words\")\n",
      "for word in stop_words_file:\n",
      "    word = word.lower().strip()\n",
      "    stop_words.add(word)\n",
      "print \"finished with stop_words\"\n",
      "\n",
      "for current_year in range(start_year, end_year + 1):\n",
      "\n",
      "    current_file_names = []\n",
      "    # Get files from previous years\n",
      "    for yr in range(start_year, current_year + 1):\n",
      "        to_add = all_file_names[yr - start_year]\n",
      "        for file_add in to_add:\n",
      "            current_file_names.append(file_add)\n",
      "\n",
      "    # Filter even more. Only take the K top most frequent words from the combined corpus\n",
      "    word_frequencies = {}\n",
      "    corpus_words = set()\n",
      "    for file_name in current_file_names:\n",
      "        f = open(file_name)\n",
      "        text = unicode(f.read(), 'latin-1')\n",
      "        for word in text.split(\" \"):\n",
      "            word = word.lower().strip()\n",
      "            if word in valid_words and word not in stop_words:\n",
      "                if word not in word_frequencies:\n",
      "                    word_frequencies[word] = 0\n",
      "                word_frequencies[word] += 1\n",
      "                corpus_words.add(word)\n",
      "        f.close()\n",
      "    valid_features = sorted(corpus_words, key=lambda x: word_frequencies[x], reverse=True)[\n",
      "        START_K:START_K + K]\n",
      "    print \"filtering done\"\n",
      "\n",
      "    # Collect all text\n",
      "    corpus = []\n",
      "    print \"starting corpus\"\n",
      "    for count, file_name in enumerate(current_file_names):\n",
      "        f = open(file_name)\n",
      "        document_string = unicode(f.read(), 'latin-1')\n",
      "        filtered_document_string = \"\"\n",
      "        for word in document_string.split(\" \"):\n",
      "            word = word.lower().strip()\n",
      "            if word in valid_features:\n",
      "                filtered_document_string += word + ' '\n",
      "        corpus.append(filtered_document_string)\n",
      "        f.close()\n",
      "    print(\"Done creating corpus!\")\n",
      "\n",
      "    # Use Sklearn to get the term document matrix\n",
      "    vectorizer = TfidfVectorizer(min_df=1, stop_words=\"english\")\n",
      "    term_doc_matrix = vectorizer.fit_transform(corpus)\n",
      "\n",
      "    # tdm and features\n",
      "    tdm = term_doc_matrix.toarray()\n",
      "    features = vectorizer.get_feature_names()\n",
      "\n",
      "    print(\"Number of rows: %d cols: %d\" % tdm.shape)\n",
      "\n",
      "    sparse_matrix = scipy.sparse.csr_matrix(tdm)\n",
      "\n",
      "    with open(str(current_year) + '_sparse.dat', 'wb') as outfile:\n",
      "        pickle.dump(sparse_matrix, outfile, pickle.HIGHEST_PROTOCOL)\n",
      "    outfile.close()\n",
      "    with open(str(current_year) + '_features.dat', 'wb') as outfile:\n",
      "        pickle.dump(features, outfile, pickle.HIGHEST_PROTOCOL)\n",
      "    outfile.close()\n",
      "    print \"Finished making the file \" + str(current_year) + \"\\n\"\n",
      "\n",
      "print \"Done making sparse matrices!\""
     ],
     "language": "python",
     "metadata": {},
     "outputs": [
      {
       "output_type": "stream",
       "stream": "stdout",
       "text": [
        "on file year 1992\n",
        "on file year 1993\n",
        "on file year 1994\n",
        "on file year 1995\n",
        "on file year 1996\n",
        "on file year 1997\n",
        "on file year 1998\n",
        "on file year 1999\n",
        "on file year 2000\n",
        "on file year 2001\n",
        "on file year 2002"
       ]
      },
      {
       "output_type": "stream",
       "stream": "stdout",
       "text": [
        "\n",
        "on file year 2003\n",
        "finished with stop_words"
       ]
      },
      {
       "output_type": "stream",
       "stream": "stdout",
       "text": [
        "\n",
        "filtering done"
       ]
      },
      {
       "output_type": "stream",
       "stream": "stdout",
       "text": [
        "\n",
        "starting corpus\n",
        "Done creating corpus!"
       ]
      },
      {
       "output_type": "stream",
       "stream": "stdout",
       "text": [
        "\n",
        "Number of rows: 200 cols: 973"
       ]
      },
      {
       "output_type": "stream",
       "stream": "stdout",
       "text": [
        "\n",
        "Finished making the file 1992\n",
        "\n",
        "filtering done"
       ]
      },
      {
       "output_type": "stream",
       "stream": "stdout",
       "text": [
        "\n",
        "starting corpus\n",
        "Done creating corpus!"
       ]
      },
      {
       "output_type": "stream",
       "stream": "stdout",
       "text": [
        "\n",
        "Number of rows: 400 cols: 973"
       ]
      },
      {
       "output_type": "stream",
       "stream": "stdout",
       "text": [
        "\n",
        "Finished making the file 1993\n",
        "\n",
        "filtering done"
       ]
      },
      {
       "output_type": "stream",
       "stream": "stdout",
       "text": [
        "\n",
        "starting corpus\n",
        "Done creating corpus!"
       ]
      },
      {
       "output_type": "stream",
       "stream": "stdout",
       "text": [
        "\n",
        "Number of rows: 600 cols: 975"
       ]
      },
      {
       "output_type": "stream",
       "stream": "stdout",
       "text": [
        "\n",
        "Finished making the file 1994\n",
        "\n",
        "filtering done"
       ]
      },
      {
       "output_type": "stream",
       "stream": "stdout",
       "text": [
        "\n",
        "starting corpus\n",
        "Done creating corpus!"
       ]
      },
      {
       "output_type": "stream",
       "stream": "stdout",
       "text": [
        "\n",
        "Number of rows: 800 cols: 975"
       ]
      },
      {
       "output_type": "stream",
       "stream": "stdout",
       "text": [
        "\n",
        "Finished making the file 1995\n",
        "\n",
        "filtering done"
       ]
      },
      {
       "output_type": "stream",
       "stream": "stdout",
       "text": [
        "\n",
        "starting corpus\n",
        "Done creating corpus!"
       ]
      },
      {
       "output_type": "stream",
       "stream": "stdout",
       "text": [
        "\n",
        "Number of rows: 1000 cols: 975"
       ]
      },
      {
       "output_type": "stream",
       "stream": "stdout",
       "text": [
        "\n",
        "Finished making the file 1996\n"
       ]
      },
      {
       "output_type": "stream",
       "stream": "stdout",
       "text": [
        "\n",
        "filtering done"
       ]
      },
      {
       "output_type": "stream",
       "stream": "stdout",
       "text": [
        "\n",
        "starting corpus\n",
        "Done creating corpus!"
       ]
      },
      {
       "output_type": "stream",
       "stream": "stdout",
       "text": [
        "\n",
        "Number of rows: 1200 cols: 975"
       ]
      },
      {
       "output_type": "stream",
       "stream": "stdout",
       "text": [
        "\n",
        "Finished making the file 1997\n",
        "\n",
        "filtering done"
       ]
      },
      {
       "output_type": "stream",
       "stream": "stdout",
       "text": [
        "\n",
        "starting corpus\n",
        "Done creating corpus!"
       ]
      },
      {
       "output_type": "stream",
       "stream": "stdout",
       "text": [
        "\n",
        "Number of rows: 1400 cols: 974"
       ]
      },
      {
       "output_type": "stream",
       "stream": "stdout",
       "text": [
        "\n",
        "Finished making the file 1998\n"
       ]
      },
      {
       "output_type": "stream",
       "stream": "stdout",
       "text": [
        "\n",
        "filtering done"
       ]
      },
      {
       "output_type": "stream",
       "stream": "stdout",
       "text": [
        "\n",
        "starting corpus\n",
        "Done creating corpus!"
       ]
      },
      {
       "output_type": "stream",
       "stream": "stdout",
       "text": [
        "\n",
        "Number of rows: 1600 cols: 973"
       ]
      },
      {
       "output_type": "stream",
       "stream": "stdout",
       "text": [
        "\n",
        "Finished making the file 1999\n"
       ]
      },
      {
       "output_type": "stream",
       "stream": "stdout",
       "text": [
        "\n",
        "filtering done"
       ]
      },
      {
       "output_type": "stream",
       "stream": "stdout",
       "text": [
        "\n",
        "starting corpus\n",
        "Done creating corpus!"
       ]
      },
      {
       "output_type": "stream",
       "stream": "stdout",
       "text": [
        "\n",
        "Number of rows: 1800 cols: 973"
       ]
      },
      {
       "output_type": "stream",
       "stream": "stdout",
       "text": [
        "\n",
        "Finished making the file 2000\n"
       ]
      },
      {
       "output_type": "stream",
       "stream": "stdout",
       "text": [
        "\n",
        "filtering done"
       ]
      },
      {
       "output_type": "stream",
       "stream": "stdout",
       "text": [
        "\n",
        "starting corpus\n",
        "Done creating corpus!"
       ]
      },
      {
       "output_type": "stream",
       "stream": "stdout",
       "text": [
        "\n",
        "Number of rows: 2000 cols: 972"
       ]
      },
      {
       "output_type": "stream",
       "stream": "stdout",
       "text": [
        "\n",
        "Finished making the file 2001\n"
       ]
      },
      {
       "output_type": "stream",
       "stream": "stdout",
       "text": [
        "\n",
        "filtering done"
       ]
      },
      {
       "output_type": "stream",
       "stream": "stdout",
       "text": [
        "\n",
        "starting corpus\n",
        "Done creating corpus!"
       ]
      },
      {
       "output_type": "stream",
       "stream": "stdout",
       "text": [
        "\n",
        "Number of rows: 2200 cols: 972"
       ]
      },
      {
       "output_type": "stream",
       "stream": "stdout",
       "text": [
        "\n",
        "Finished making the file 2002\n"
       ]
      },
      {
       "output_type": "stream",
       "stream": "stdout",
       "text": [
        "\n",
        "filtering done"
       ]
      },
      {
       "output_type": "stream",
       "stream": "stdout",
       "text": [
        "\n",
        "starting corpus\n",
        "Done creating corpus!"
       ]
      },
      {
       "output_type": "stream",
       "stream": "stdout",
       "text": [
        "\n",
        "Number of rows: 2400 cols: 972"
       ]
      },
      {
       "output_type": "stream",
       "stream": "stdout",
       "text": [
        "\n",
        "Finished making the file 2003\n"
       ]
      },
      {
       "output_type": "stream",
       "stream": "stdout",
       "text": [
        "\n",
        "Done making sparse matrices!\n"
       ]
      }
     ],
     "prompt_number": 1
    }
   ],
   "metadata": {}
  }
 ]
}