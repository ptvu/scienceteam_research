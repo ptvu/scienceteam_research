{
 "metadata": {
  "name": "",
  "signature": "sha256:22c4a65133ae33baebd7b0b547c90b06b968466db0f690f1bbb90c41b6b3ffc8"
 },
 "nbformat": 3,
 "nbformat_minor": 0,
 "worksheets": [
  {
   "cells": [
    {
     "cell_type": "code",
     "collapsed": false,
     "input": [
      "import sys\n",
      "import glob\n",
      "import numpy as np\n",
      "import time\n",
      "from multiprocessing import Pool\n",
      "from anser_indicus.config_settings import DATA_PATH, STAIRCASE_JSON_PATH, QUERY_PATH\n",
      "from anser_indicus.data.database_pool import DatabasePool\n",
      "from anser_indicus.data.queryable_database import QueryableDatabase, KeywordSelection, TimeSelection, Selection, AllSelection\n",
      "from anser_indicus.preprocessing.sparse_matrix import SparseMatrix\n",
      "from anser_indicus.utilities.utc import flexible_htm, htm, mth\n",
      "from anser_indicus.analytics.sparse_low_rank import run_spca\n",
      "\n",
      "def matrix_data_from_keywords(database_name, keywords, time_range):\n",
      "    # Open the database connection\n",
      "    db_pool = DatabasePool()\n",
      "    db = QueryableDatabase(database_name, pool=db_pool)\n",
      "\n",
      "    # Create a selection query from keywords\n",
      "    # One selection specifies the keywords 'OR'ed together\n",
      "    # Another selection specifies all terms excluding the keywords\n",
      "    # Also specify the time range through 'AND'ing them to the selection queries\n",
      "    or_selection, not_selection = Selection(), Selection()\n",
      "    not_selection += TimeSelection(time_range)\n",
      "    or_selection += KeywordSelection(keywords)\n",
      "    or_selection &= TimeSelection(time_range)\n",
      "    db.select(not_selection, classlabel=0, dontclear=False)\n",
      "    db.select(or_selection, classlabel=1, dontclear=True)\n",
      "\n",
      "    # Load and return sparse matrix from iterable, and also classification vector\n",
      "    matrix_data = SparseMatrix()\n",
      "    matrix_data.attach_database(database_name, pool=db_pool)\n",
      "    matrix_data.load_from_iterator(db.iterate_selection())\n",
      "    classification_vector = matrix_data.load_classification_vector(db.iterate_selection_classes())\n",
      "    return matrix_data, classification_vector\n"
     ],
     "language": "python",
     "metadata": {},
     "outputs": [
      {
       "output_type": "stream",
       "stream": "stdout",
       "text": [
        "===== Using AnserIndicus Version 1.1.12 =====\n"
       ]
      }
     ],
     "prompt_number": 1
    },
    {
     "cell_type": "code",
     "collapsed": false,
     "input": [
      "# Get matrix data and classification vector for given database and search term\n",
      "\n",
      "database_name = \"nips\"\n",
      "search_term = [\"convex\"]\n",
      "\n",
      "def to_year(unix_time_stamp):\n",
      "    return int(mth(unix_time_stamp, \"%Y\"))\n",
      "\n",
      "db = QueryableDatabase(database_name)\n",
      "whole_time = tuple(x for x in db.time_range())\n",
      "matrix_data, classification_vector = matrix_data_from_keywords(database_name, search_term, whole_time)\n",
      "print(matrix_data, classification_vector)"
     ],
     "language": "python",
     "metadata": {},
     "outputs": [
      {
       "output_type": "stream",
       "stream": "stdout",
       "text": [
        "attaching database nips\n",
        "(<anser_indicus.preprocessing.sparse_matrix.SparseMatrix object at 0x134ed86d0>, array([[ 0.],\n",
        "       [ 0.],\n",
        "       [ 0.],\n",
        "       ..., \n",
        "       [ 0.],\n",
        "       [ 1.],\n",
        "       [ 1.]], dtype=float32))"
       ]
      },
      {
       "output_type": "stream",
       "stream": "stdout",
       "text": [
        "\n"
       ]
      }
     ],
     "prompt_number": 12
    },
    {
     "cell_type": "code",
     "collapsed": false,
     "input": [
      "import scipy\n",
      "\n",
      "N_ITER_PRINT = 100000\n",
      "iteration = 0\n",
      "\n",
      "# Create map of total number of times a given keyword appears in documents\n",
      "positive_appearances = {}\n",
      "negative_appearances = {}\n",
      "positive_counts = 0\n",
      "negative_counts = 0\n",
      "\n",
      "print(\"Counting term frequency...\")\n",
      "\n",
      "# Iterate through sparse matrix\n",
      "cx = scipy.sparse.coo_matrix(matrix_data.mat)\n",
      "length = len(cx.row)\n",
      "\n",
      "for row, col, value in zip(cx.row, cx.col, cx.data):\n",
      "    \n",
      "    # Get the term\n",
      "    term = matrix_data.lookup_terms([col])[0]\n",
      "    \n",
      "    # Initialize dictionary data if not already there\n",
      "    if term not in positive_appearances:\n",
      "        positive_appearances[term] = 0\n",
      "    if term not in negative_appearances:\n",
      "        negative_appearances[term] = 0    \n",
      "    \n",
      "    # Positive class appearance\n",
      "    if classification_vector[row] == 1:\n",
      "        positive_appearances[term] += value\n",
      "    # Negative class appearance\n",
      "    if classification_vector[row] == 0:\n",
      "        negative_appearances[term] += value\n",
      "        \n",
      "    # positive class counts\n",
      "    positive_counts += value\n",
      "    # Negative class counts\n",
      "    negative_counts += value\n",
      "    \n",
      "    if iteration % N_ITER_PRINT == 0:\n",
      "        print(\"Iteration %d of %d\" % (iteration, length))\n",
      "    iteration += 1\n",
      "print(\"Done\")\n",
      "    "
     ],
     "language": "python",
     "metadata": {},
     "outputs": [
      {
       "output_type": "stream",
       "stream": "stdout",
       "text": [
        "Counting term frequency...\n",
        "Iteration 0 of 3454297"
       ]
      },
      {
       "output_type": "stream",
       "stream": "stdout",
       "text": [
        "\n",
        "Iteration 100000 of 3454297"
       ]
      },
      {
       "output_type": "stream",
       "stream": "stdout",
       "text": [
        "\n",
        "Iteration 200000 of 3454297"
       ]
      },
      {
       "output_type": "stream",
       "stream": "stdout",
       "text": [
        "\n",
        "Iteration 300000 of 3454297"
       ]
      },
      {
       "output_type": "stream",
       "stream": "stdout",
       "text": [
        "\n",
        "Iteration 400000 of 3454297"
       ]
      },
      {
       "output_type": "stream",
       "stream": "stdout",
       "text": [
        "\n",
        "Iteration 500000 of 3454297"
       ]
      },
      {
       "output_type": "stream",
       "stream": "stdout",
       "text": [
        "\n",
        "Iteration 600000 of 3454297"
       ]
      },
      {
       "output_type": "stream",
       "stream": "stdout",
       "text": [
        "\n",
        "Iteration 700000 of 3454297"
       ]
      },
      {
       "output_type": "stream",
       "stream": "stdout",
       "text": [
        "\n",
        "Iteration 800000 of 3454297"
       ]
      },
      {
       "output_type": "stream",
       "stream": "stdout",
       "text": [
        "\n",
        "Iteration 900000 of 3454297"
       ]
      },
      {
       "output_type": "stream",
       "stream": "stdout",
       "text": [
        "\n",
        "Iteration 1000000 of 3454297"
       ]
      },
      {
       "output_type": "stream",
       "stream": "stdout",
       "text": [
        "\n",
        "Iteration 1100000 of 3454297"
       ]
      },
      {
       "output_type": "stream",
       "stream": "stdout",
       "text": [
        "\n",
        "Iteration 1200000 of 3454297"
       ]
      },
      {
       "output_type": "stream",
       "stream": "stdout",
       "text": [
        "\n",
        "Iteration 1300000 of 3454297"
       ]
      },
      {
       "output_type": "stream",
       "stream": "stdout",
       "text": [
        "\n",
        "Iteration 1400000 of 3454297"
       ]
      },
      {
       "output_type": "stream",
       "stream": "stdout",
       "text": [
        "\n",
        "Iteration 1500000 of 3454297"
       ]
      },
      {
       "output_type": "stream",
       "stream": "stdout",
       "text": [
        "\n",
        "Iteration 1600000 of 3454297"
       ]
      },
      {
       "output_type": "stream",
       "stream": "stdout",
       "text": [
        "\n",
        "Iteration 1700000 of 3454297"
       ]
      },
      {
       "output_type": "stream",
       "stream": "stdout",
       "text": [
        "\n",
        "Iteration 1800000 of 3454297"
       ]
      },
      {
       "output_type": "stream",
       "stream": "stdout",
       "text": [
        "\n",
        "Iteration 1900000 of 3454297"
       ]
      },
      {
       "output_type": "stream",
       "stream": "stdout",
       "text": [
        "\n",
        "Iteration 2000000 of 3454297"
       ]
      },
      {
       "output_type": "stream",
       "stream": "stdout",
       "text": [
        "\n",
        "Iteration 2100000 of 3454297"
       ]
      },
      {
       "output_type": "stream",
       "stream": "stdout",
       "text": [
        "\n",
        "Iteration 2200000 of 3454297"
       ]
      },
      {
       "output_type": "stream",
       "stream": "stdout",
       "text": [
        "\n",
        "Iteration 2300000 of 3454297"
       ]
      },
      {
       "output_type": "stream",
       "stream": "stdout",
       "text": [
        "\n",
        "Iteration 2400000 of 3454297"
       ]
      },
      {
       "output_type": "stream",
       "stream": "stdout",
       "text": [
        "\n",
        "Iteration 2500000 of 3454297"
       ]
      },
      {
       "output_type": "stream",
       "stream": "stdout",
       "text": [
        "\n",
        "Iteration 2600000 of 3454297"
       ]
      },
      {
       "output_type": "stream",
       "stream": "stdout",
       "text": [
        "\n",
        "Iteration 2700000 of 3454297"
       ]
      },
      {
       "output_type": "stream",
       "stream": "stdout",
       "text": [
        "\n",
        "Iteration 2800000 of 3454297"
       ]
      },
      {
       "output_type": "stream",
       "stream": "stdout",
       "text": [
        "\n",
        "Iteration 2900000 of 3454297"
       ]
      },
      {
       "output_type": "stream",
       "stream": "stdout",
       "text": [
        "\n",
        "Iteration 3000000 of 3454297"
       ]
      },
      {
       "output_type": "stream",
       "stream": "stdout",
       "text": [
        "\n",
        "Iteration 3100000 of 3454297"
       ]
      },
      {
       "output_type": "stream",
       "stream": "stdout",
       "text": [
        "\n",
        "Iteration 3200000 of 3454297"
       ]
      },
      {
       "output_type": "stream",
       "stream": "stdout",
       "text": [
        "\n",
        "Iteration 3300000 of 3454297"
       ]
      },
      {
       "output_type": "stream",
       "stream": "stdout",
       "text": [
        "\n",
        "Iteration 3400000 of 3454297"
       ]
      },
      {
       "output_type": "stream",
       "stream": "stdout",
       "text": [
        "\n",
        "Done"
       ]
      },
      {
       "output_type": "stream",
       "stream": "stdout",
       "text": [
        "\n"
       ]
      }
     ],
     "prompt_number": 13
    },
    {
     "cell_type": "code",
     "collapsed": false,
     "input": [
      "# Compute logs of each term, sort by it\n",
      "import math\n",
      "\n",
      "N_SHOW = 20\n",
      "iteration = 0\n",
      "\n",
      "# P(xi | class=1)\n",
      "def P_positive(term):\n",
      "    return (positive_appearances[term]+1) / (positive_counts+1)\n",
      "\n",
      "# P(xi | class = 0)\n",
      "def P_negative(term):\n",
      "    return (negative_appearances[term]+1) / (negative_counts+1)\n",
      "\n",
      "# log ( P(xi | class = 1) / P(xi | class = 0) ) \n",
      "def compute_weight(term):\n",
      "    return math.log(P_positive(term) / P_negative(term))\n",
      "\n",
      "term_weight_pairs = []\n",
      "length = matrix_data.mat.shape[1]\n",
      "for col in range(matrix_data.mat.shape[1]):\n",
      "    \n",
      "    # Compute log-odds\n",
      "    term = matrix_data.lookup_terms([col])[0]\n",
      "    weight = compute_weight(term)\n",
      "    term_weight_pairs.append((term, weight))\n",
      "    \n",
      "    if iteration % N_ITER_PRINT == 0:\n",
      "        print(\"Iteration %d of %d\" % (iteration, length))\n",
      "    iteration += 1\n",
      "    \n",
      "term_weight_pairs.sort(key=lambda x: x[1], reverse=True)\n",
      "print(term_weight_pairs[:N_SHOW])"
     ],
     "language": "python",
     "metadata": {},
     "outputs": [
      {
       "output_type": "stream",
       "stream": "stdout",
       "text": [
        "Iteration 0 of 181894\n",
        "Iteration 100000 of 181894"
       ]
      },
      {
       "output_type": "stream",
       "stream": "stdout",
       "text": [
        "\n",
        "[(u'convex', 9.800734744961298), (u'arow', 5.739792912179234), (u'knng', 5.713732805509369), (u'ocsvm', 5.4510384535657), (u'fenchel', 5.43372200355424), (u'subdifferential', 5.37989735354046), (u'sdca', 5.3706380281276624), (u'mixability', 5.25227342804663), (u'cccp', 5.145554611995626), (u'fista', 5.14166355650266), (u'silp', 5.10594547390058), (u'kliep', 5.0689042022202315), (u'edml', 5.043425116919247), (u'lrsdp', 4.990432586778736), (u'shareboost', 4.990432586778736), (u'universum', 4.948759890378168), (u'hearer', 4.948759890378168), (u'fazel', 4.9344739331306915), (u'glas', 4.919980925828125), (u'teboulle', 4.890349128221754)]"
       ]
      },
      {
       "output_type": "stream",
       "stream": "stdout",
       "text": [
        "\n"
       ]
      }
     ],
     "prompt_number": 15
    },
    {
     "cell_type": "code",
     "collapsed": false,
     "input": [],
     "language": "python",
     "metadata": {},
     "outputs": []
    }
   ],
   "metadata": {}
  }
 ]
}