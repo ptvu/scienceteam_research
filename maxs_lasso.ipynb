{
 "metadata": {
  "name": "",
  "signature": "sha256:2b97e24bbc151277090b5c4abec1cac916e788c4258301df6f58ce444845ac8f"
 },
 "nbformat": 3,
 "nbformat_minor": 0,
 "worksheets": [
  {
   "cells": [
    {
     "cell_type": "code",
     "collapsed": false,
     "input": [
      "###################################################################\n",
      "# Creates a term document matrix from movie reviews data          #\n",
      "###################################################################\n",
      "import sys\n",
      "import os\n",
      "import glob\n",
      "import numpy as np\n",
      "from sklearn.feature_extraction.text import TfidfVectorizer\n",
      "\n",
      "START_K = 0\n",
      "K = 1000\n",
      "\n",
      "# Movie data corpus\n",
      "negative_files = glob.glob(\"movie_review_data/neg/*.txt\")\n",
      "positive_files = glob.glob(\"movie_review_data/pos/*.txt\")\n",
      "all_file_names = negative_files + positive_files\n",
      "\n",
      "# Load valid english words\n",
      "valid_words = set()\n",
      "dictionary_file = open(\"words\")\n",
      "for word in dictionary_file:\n",
      "    word = word.lower().strip()\n",
      "    valid_words.add(word)\n",
      "    \n",
      "# Load english stop words\n",
      "stop_words = set()\n",
      "stop_words_file = open(\"stop_words\")\n",
      "for word in stop_words_file:\n",
      "    word = word.lower().strip()\n",
      "    stop_words.add(word)\n",
      "\n",
      "# Filter even more. Only take the K top most frequent words from the combined corpus\n",
      "word_frequencies = {}\n",
      "corpus_words = set()\n",
      "for file_name in all_file_names:\n",
      "    f = open(file_name)\n",
      "    text = unicode(f.read(), 'latin-1')\n",
      "    for word in text.split(\" \"):\n",
      "        word = word.lower().strip()\n",
      "        if word in valid_words and word not in stop_words:\n",
      "            if word not in word_frequencies:\n",
      "                word_frequencies[word] = 0\n",
      "            word_frequencies[word] += 1\n",
      "            corpus_words.add(word)\n",
      "    f.close()\n",
      "valid_features = sorted(corpus_words, key=lambda x: word_frequencies[x], reverse=True)[START_K:START_K+K]\n",
      "                \n",
      "# Collect all movie review text (both positive and negatively sentimented)\n",
      "corpus = []\n",
      "for count, file_name in enumerate(all_file_names):\n",
      "    f = open(file_name)\n",
      "    document_string = unicode(f.read(), 'latin-1')\n",
      "    filtered_document_string = \"\"\n",
      "    for word in document_string.split(\" \"):\n",
      "        word = word.lower().strip()\n",
      "        if word in valid_features:\n",
      "            filtered_document_string += word + ' '\n",
      "    corpus.append(filtered_document_string)\n",
      "    f.close()\n",
      "print(\"Done creating corpus!\")\n",
      "\n",
      "# Use Sklearn to get the term document matrix\n",
      "vectorizer = TfidfVectorizer(min_df=1, stop_words=\"english\")\n",
      "term_doc_matrix = vectorizer.fit_transform(corpus)\n",
      "\n",
      "# tdm and features\n",
      "tdm = term_doc_matrix.toarray()\n",
      "features = vectorizer.get_feature_names()\n",
      "\n",
      "print(\"Number of rows: %d cols: %d\" % tdm.shape)\n",
      "print(tdm)\n",
      "print(\"Features:\")\n",
      "print(features)"
     ],
     "language": "python",
     "metadata": {},
     "outputs": [
      {
       "output_type": "stream",
       "stream": "stdout",
       "text": [
        "Done creating corpus!\n",
        "Number of rows: 1400 cols: 955"
       ]
      },
      {
       "output_type": "stream",
       "stream": "stdout",
       "text": [
        "\n",
        "[[ 0.          0.          0.         ...,  0.          0.          0.        ]\n",
        " [ 0.          0.          0.         ...,  0.          0.05917148  0.        ]\n",
        " [ 0.          0.          0.         ...,  0.          0.          0.        ]\n",
        " ..., \n",
        " [ 0.          0.          0.         ...,  0.          0.          0.        ]\n",
        " [ 0.          0.          0.         ...,  0.          0.          0.        ]\n",
        " [ 0.          0.04292332  0.         ...,  0.          0.          0.        ]]\n",
        "Features:\n",
        "[u'ability', u'able', u'absolutely', u'accident', u'act', u'acting', u'action', u'actor', u'actress', u'actual', u'actually', u'adam', u'add', u'addition', u'admit', u'adult', u'adventure', u'affair', u'age', u'agent', u'ago', u'air', u'al', u'alan', u'alien', u'alive', u'allen', u'allow', u'amazing', u'america', u'american', u'amusing', u'anderson', u'andrew', u'animated', u'animation', u'annie', u'annoying', u'answer', u'anthony', u'apart', u'apartment', u'apparently', u'appeal', u'appear', u'appearance', u'approach', u'army', u'art', u'aside', u'aspect', u'atmosphere', u'attack', u'attempt', u'attention', u'attitude', u'audience', u'average', u'avoid', u'awful', u'baby', u'background', u'bad', u'baldwin', u'band', u'barely', u'barry', u'based', u'basic', u'basically', u'batman', u'battle', u'beach', u'beautiful', u'beauty', u'bed', u'begin', u'beginning', u'believable', u'believe', u'ben', u'biggest', u'billy', u'bit', u'bizarre', u'black', u'blair', u'blood', u'blue', u'bob', u'body', u'bond', u'book', u'boring', u'born', u'boss', u'boy', u'break', u'brian', u'brief', u'brilliant', u'bring', u'british', u'brother', u'brought', u'brown', u'bruce', u'buddy', u'budget', u'building', u'bunch', u'business', u'buy', u'cage', u'cameo', u'camera', u'camp', u'captain', u'car', u'care', u'career', u'carry', u'carter', u'cash', u'cast', u'casting', u'catch', u'catherine', u'caught', u'cause', u'central', u'century', u'chance', u'change', u'character', u'charles', u'charlie', u'charm', u'charming', u'chase', u'cheap', u'check', u'chemistry', u'child', u'chinese', u'choice', u'chosen', u'chris', u'christopher', u'cinema', u'cinematic', u'cinematography', u'city', u'class', u'classic', u'clever', u'climax', u'close', u'club', u'cold', u'college', u'comedic', u'comedy', u'comes', u'comic', u'coming', u'common', u'company', u'complete', u'completely', u'complex', u'computer', u'conclusion', u'conflict', u'confused', u'consider', u'considering', u'constantly', u'contact', u'content', u'control', u'convincing', u'cool', u'cop', u'copyright', u'country', u'couple', u'course', u'crazy', u'create', u'credit', u'crew', u'crime', u'critic', u'culture', u'current', u'cut', u'cute', u'damon', u'dance', u'danny', u'dark', u'date', u'daughter', u'david', u'day', u'days', u'dead', u'deal', u'dean', u'death', u'debut', u'decent', u'decide', u'decided', u'deep', u'definitely', u'dennis', u'depth', u'design', u'desperate', u'despite', u'detective', u'development', u'device', u'dialogue', u'die', u'difference', u'difficult', u'directed', u'direction', u'director', u'disappointing', u'disaster', u'discover', u'disturbing', u'doctor', u'dog', u'doing', u'don', u'door', u'doubt', u'douglas', u'drama', u'dramatic', u'dream', u'drive', u'driver', u'drug', u'dude', u'dull', u'dumb', u'dustin', u'earth', u'easily', u'easy', u'eddie', u'edge', u'edward', u'effect', u'effective', u'effects', u'effort', u'element', u'emotional', u'energy', u'english', u'enjoy', u'enjoyable', u'entertaining', u'entertainment', u'entire', u'entirely', u'epic', u'episode', u'escape', u'especially', u'event', u'eventually', u'evil', u'exactly', u'example', u'excellent', u'exception', u'exciting', u'expect', u'experience', u'explain', u'extremely', u'eye', u'fair', u'fairly', u'fake', u'fall', u'falling', u'familiar', u'family', u'famous', u'fan', u'fascinating', u'fashion', u'fast', u'father', u'favorite', u'fear', u'feature', u'feel', u'feeling', u'fellow', u'female', u'fiction', u'field', u'fight', u'figure', u'filled', u'film', u'final', u'finale', u'finally', u'fine', u'flat', u'flick', u'flying', u'focus', u'follow', u'following', u'food', u'footage', u'force', u'forced', u'ford', u'forever', u'forget', u'form', u'fox', u'frank', u'free', u'french', u'fresh', u'friend', u'fun', u'funny', u'future', u'game', u'gang', u'gary', u'gay', u'genre', u'genuine', u'george', u'getting', u'giant', u'gibson', u'girl', u'giving', u'god', u'goes', u'gone', u'gore', u'government', u'grace', u'grand', u'grant', u'green', u'ground', u'guess', u'gun', u'guy', u'hair', u'half', u'hand', u'happen', u'happy', u'hard', u'hardly', u'harry', u'hate', u'head', u'hear', u'heart', u'heavy', u'helen', u'hell', u'help', u'henry', u'hero', u'highly', u'hilarious', u'hill', u'history', u'hit', u'hold', u'hollywood', u'home', u'hope', u'horrible', u'horror', u'hot', u'hour', u'house', u'huge', u'human', u'humor', u'humorous', u'hunt', u'hurt', u'husband', u'ian', u'idea', u'imagine', u'immediately', u'impact', u'impossible', u'impressive', u'include', u'incredibly', u'information', u'innocent', u'inside', u'inspired', u'instance', u'instead', u'intelligence', u'intelligent', u'intended', u'involved', u'island', u'jack', u'jackson', u'james', u'jamie', u'jane', u'jason', u'jay', u'jeff', u'jennifer', u'jerry', u'jim', u'job', u'joe', u'john', u'join', u'joke', u'jon', u'jonathan', u'jones', u'journal', u'julia', u'justin', u'kate', u'keeping', u'kelly', u'kept', u'kevin', u'key', u'kids', u'kill', u'killer', u'killing', u'king', u'la', u'lack', u'lady', u'lame', u'land', u'language', u'larry', u'late', u'laugh', u'laughing', u'law', u'lawrence', u'lawyer', u'lead', u'leader', u'leading', u'leads', u'learn', u'leave', u'leaves', u'leaving', u'led', u'lee', u'left', u'length', u'level', u'life', u'light', u'likable', u'line', u'list', u'little', u'live', u'living', u'local', u'look', u'looking', u'lose', u'lost', u'lot', u'lots', u'loud', u'love', u'lover', u'low', u'machine', u'magic', u'main', u'major', u'male', u'manner', u'mark', u'married', u'mars', u'martial', u'martin', u'marty', u'mary', u'master', u'masterpiece', u'material', u'matt', u'matter', u'matthew', u'max', u'maybe', u'mean', u'meet', u'memorable', u'mention', u'merely', u'mess', u'message', u'met', u'michael', u'michelle', u'middle', u'mike', u'military', u'million', u'mind', u'minor', u'minute', u'miss', u'missing', u'mission', u'mix', u'modern', u'moment', u'money', u'monster', u'mother', u'motion', u'mouth', u'movie', u'moving', u'murder', u'murphy', u'music', u'musical', u'mysterious', u'mystery', u'natural', u'nature', u'nearly', u'net', u'news', u'nice', u'nicely', u'nick', u'night', u'nights', u'normal', u'note', u'novel', u'nudity', u'numerous', u'obvious', u'obviously', u'occasionally', u'odd', u'offer', u'office', u'officer', u'oh', u'oliver', u'opinion', u'opportunity', u'original', u'oscar', u'outside', u'overall', u'owner', u'pace', u'pain', u'pair', u'park', u'particular', u'particularly', u'partner', u'party', u'pass', u'past', u'pathetic', u'patrick', u'paul', u'pay', u'people', u'perfect', u'perfectly', u'performance', u'period', u'person', u'personal', u'personality', u'peter', u'phone', u'physical', u'picture', u'piece', u'plain', u'plan', u'planet', u'play', u'plenty', u'plot', u'pointless', u'police', u'political', u'poor', u'pop', u'popular', u'possibly', u'potential', u'power', u'powerful', u'predictable', u'premise', u'presence', u'president', u'pretty', u'previous', u'prison', u'private', u'probably', u'process', u'produced', u'producer', u'production', u'profanity', u'project', u'prove', u'provide', u'public', u'pull', u'pure', u'purpose', u'quality', u'queen', u'question', u'quick', u'quickly', u'quiet', u'race', u'rare', u'rarely', u'rated', u'rating', u'ray', u'reach', u'read', u'ready', u'real', u'realistic', u'reality', u'realize', u'reason', u'recent', u'recently', u'recommend', u'red', u'relationship', u'release', u'remains', u'remake', u'remember', u'rescue', u'respect', u'rest', u'result', u'return', u'review', u'rich', u'richard', u'ride', u'ridiculous', u'rising', u'road', u'rob', u'robert', u'robin', u'rock', u'roger', u'role', u'romance', u'romantic', u'run', u'running', u'rush', u'russell', u'sad', u'sadly', u'sam', u'sarah', u'save', u'saving', u'saying', u'scale', u'scary', u'scene', u'school', u'science', u'score', u'scott', u'scream', u'screen', u'screening', u'screenplay', u'screenwriter', u'script', u'sean', u'search', u'secret', u'seeing', u'seemingly', u'seen', u'send', u'sense', u'sent', u'sequel', u'sequence', u'series', u'seriously', u'set', u'setting', u'seven', u'sex', u'sexual', u'shallow', u'share', u'ship', u'short', u'shot', u'shown', u'sight', u'sign', u'silent', u'silly', u'similar', u'simon', u'simple', u'simply', u'singer', u'single', u'sister', u'sit', u'sitting', u'situation', u'slightly', u'slow', u'slowly', u'smart', u'smith', u'social', u'society', u'soldier', u'solid', u'somewhat', u'son', u'song', u'soon', u'sort', u'sound', u'south', u'space', u'speak', u'special', u'species', u'speech', u'spend', u'spent', u'stage', u'stand', u'standard', u'star', u'starring', u'start', u'station', u'stay', u'step', u'stephen', u'steve', u'steven', u'stone', u'stop', u'store', u'story', u'straight', u'strange', u'street', u'strong', u'stuart', u'student', u'studio', u'stuff', u'stupid', u'style', u'subject', u'subplot', u'subtle', u'success', u'successful', u'suddenly', u'summer', u'superb', u'supporting', u'supposed', u'surprise', u'surprising', u'surprisingly', u'suspect', u'suspense', u'sweet', u'taking', u'tale', u'talent', u'talented', u'talk', u'talking', u'tarzan', u'taylor', u'teacher', u'team', u'teen', u'teenage', u'television', u'tell', u'telling', u'tension', u'terrible', u'thanks', u'theater', u'theme', u'thinking', u'thomas', u'thriller', u'thrown', u'tim', u'time', u'times', u'tired', u'titanic', u'title', u'told', u'tom', u'tommy', u'tone', u'tony', u'total', u'totally', u'touch', u'touching', u'tough', u'town', u'toy', u'track', u'trailer', u'train', u'travel', u'trek', u'trip', u'trouble', u'true', u'truly', u'truth', u'try', u'trying', u'twice', u'twist', u'type', u'typical', u'ultimately', u'understand', u'unfortunately', u'united', u'unlike', u'usual', u'usually', u'van', u'various', u'version', u'video', u'view', u'viewer', u'villain', u'violence', u'violent', u'virus', u'visit', u'visual', u'visually', u'voice', u'wait', u'waiting', u'walk', u'war', u'warner', u'washington', u'waste', u'wasted', u'watch', u'watching', u'water', u'weak', u'wedding', u'week', u'west', u'white', u'wide', u'wife', u'wild', u'william', u'wilson', u'win', u'wish', u'witty', u'woman', u'wonder', u'wonderful', u'wonderfully', u'woody', u'word', u'world', u'worse', u'worst', u'worth', u'write', u'writer', u'writing', u'written', u'wrong', u'wrote', u'yes', u'york', u'zero']\n"
       ]
      }
     ],
     "prompt_number": 3
    },
    {
     "cell_type": "code",
     "collapsed": false,
     "input": [
      "###################################################################\n",
      "# Searches query term within list of corpus                       #\n",
      "###################################################################\n",
      "\n",
      "query = unicode('batman')\n",
      "query_presence_indicators = []\n",
      "\n",
      "# Create the indicator column\n",
      "if query in features:\n",
      "    location_in_matrix = features.index(query)\n",
      "    features.remove(query)\n",
      "    \n",
      "    # Remove column with query term from tdm\n",
      "    tdm = np.delete(tdm, location_in_matrix, axis=1)\n",
      "    \n",
      "    # Construct indicator vector\n",
      "    for document in tdm:\n",
      "        if document[location_in_matrix] != 0:\n",
      "            query_presence_indicators.append(1)\n",
      "        else:\n",
      "            query_presence_indicators.append(-1)\n",
      "else:\n",
      "    print(\"Query not found\")\n",
      "\n",
      "print(\"Number of documents\", len(query_presence_indicators))\n",
      "print(\"Number of times query appears in all documents: \", sum([1 if x == 1 else 0 for x in query_presence_indicators]))"
     ],
     "language": "python",
     "metadata": {},
     "outputs": [
      {
       "output_type": "stream",
       "stream": "stdout",
       "text": [
        "('Number of documents', 1400)\n",
        "('Number of times query appears in all documents: ', 95)\n"
       ]
      }
     ],
     "prompt_number": 4
    },
    {
     "cell_type": "code",
     "collapsed": false,
     "input": [
      "from cvxpy import *\n",
      "import numpy as np\n",
      "import cvxopt\n",
      "from multiprocessing import Pool\n",
      "\n",
      "# Problem data.\n",
      "A = tdm\n",
      "b = query_presence_indicators\n",
      "gamma = Parameter(sign=\"positive\")\n",
      "\n",
      "# Construct the problem.\n",
      "x = Variable(len(A[0]))\n",
      "objective = Minimize(sum_squares(A*x - b) + gamma*norm(x, 1))\n",
      "p = Problem(objective)\n",
      "\n",
      "# Assign a value to gamma and find the optimal x.\n",
      "def get_x(gamma_value):\n",
      "    gamma.value = gamma_value\n",
      "    result = p.solve()\n",
      "    return x.value\n",
      "\n",
      "gammas = np.logspace(-1, 2, num=100)\n",
      "\n",
      "# Parallel computation.\n",
      "print(\"Starting computation\")\n",
      "pool = Pool(processes=1)\n",
      "x_values = pool.map(get_x, gammas)\n",
      "\n",
      "# Serial computation.\n",
      "lasso_weights = [get_x(value) for value in gammas]\n",
      "\n",
      "for v1,v2 in zip(x_values, lasso_weights):\n",
      "    if np.linalg.norm(v1 - v2) > 1e-5:\n",
      "        print \"error\"\n",
      "        \n",
      "print(\"Done!\")"
     ],
     "language": "python",
     "metadata": {},
     "outputs": [
      {
       "output_type": "stream",
       "stream": "stdout",
       "text": [
        "Starting computation\n"
       ]
      },
      {
       "output_type": "stream",
       "stream": "stdout",
       "text": [
        "Done!\n"
       ]
      }
     ],
     "prompt_number": 5
    },
    {
     "cell_type": "code",
     "collapsed": false,
     "input": [
      "# Copyright (c) 2014 Steve Yadlowsky, Preetum Nakkarin.\n",
      "# Licensed under MIT License.\n",
      "# More information including the exact terms of the License\n",
      "# can be found in the file COPYING in the project root directory.\n",
      "\n",
      "import numpy as np\n",
      "import time\n",
      "import operator\n",
      "import scipy.sparse\n",
      "\n",
      "class IHTClassifier(object):\n",
      "    \n",
      "    def __init__(self):\n",
      "        self.training_time = 0.0\n",
      "        self.beta = None\n",
      "\n",
      "    def card(self, x):\n",
      "        return np.sum(x != 0)\n",
      "\n",
      "    def train(self, X, y, card=100, verbose=False):\n",
      "        start = time.time()\n",
      "        if verbose:\n",
      "            print \"Preconditioning matrix\"\n",
      "        whitened_X, feature_avg = self.whiten_features(X)\n",
      "        lsv = float(self.compute_lsv(whitened_X, feature_avg))\n",
      "        if verbose:\n",
      "            print \"Matching pursuits\"\n",
      "        x_hat = self.matching_pursuit_sparse(y, whitened_X/lsv, feature_avg/lsv, card)\n",
      "        if verbose:\n",
      "            print \"Running iterative hard thresholding\"\n",
      "        self.beta = self.AIHT_sparse(y, whitened_X/lsv, x_hat, card, feature_avg/lsv)/lsv\n",
      "\n",
      "        self.training_time += time.time() - start\n",
      "\n",
      "    def whiten_features(self, X):\n",
      "        X = X.tocsr(copy=True)\n",
      "        row_avg = np.bincount(X.indices, weights=X.data)\n",
      "        row_avg /= float(X.shape[0])\n",
      "        row_norm = np.bincount(X.indices, weights=(X.data - row_avg[X.indices])**2)\n",
      "        nonzeros_in_each_column = np.diff(X.tocsc().indptr)\n",
      "        avg_norm = ((float(X.shape[0])*np.ones(X.shape[1])) - nonzeros_in_each_column)*(row_avg**2)\n",
      "        row_norm += avg_norm\n",
      "        row_norm = np.array([np.sqrt(x) if x != 0 else 1 for x in row_norm])\n",
      "        row_avg /= row_norm\n",
      "        X.data /= np.take(row_norm, X.indices)\n",
      "        feature_avg = np.squeeze(row_avg)\n",
      "\n",
      "        return X, feature_avg\n",
      "\n",
      "    def compute_lsv(self, X, feature_avg):\n",
      "        def matmuldyad(v):\n",
      "            return X.dot(v) - feature_avg.dot(v)\n",
      "\n",
      "        def rmatmuldyad(v):\n",
      "            return X.T.dot(v) - v.sum()*feature_avg\n",
      "        normalized_lin_op = scipy.sparse.linalg.LinearOperator(X.shape, matmuldyad, rmatmuldyad)\n",
      "\n",
      "        def matvec_XH_X(v):\n",
      "            return normalized_lin_op.rmatvec(normalized_lin_op.matvec(v))\n",
      "\n",
      "        which='LM'\n",
      "        v0=None\n",
      "        maxiter=None\n",
      "        return_singular_vectors=False\n",
      "\n",
      "        XH_X = scipy.sparse.linalg.LinearOperator(matvec=matvec_XH_X, dtype=X.dtype, shape=(X.shape[1], X.shape[1]))\n",
      "        eigvals = scipy.sparse.linalg.eigs(XH_X, k=1, tol=0, maxiter=None, ncv=10, which=which, v0=v0, return_eigenvectors=False)\n",
      "        lsv = np.sqrt(eigvals)\n",
      "        return lsv[0].real\n",
      "\n",
      "    def matching_pursuit_sparse(self, y, X, feature_avg, k, tol=10**-10):\n",
      "        '''\n",
      "        Matching Pursuit\n",
      "        '''\n",
      "        r = y\n",
      "        X = X.tocsc()\n",
      "        err_norm = np.linalg.norm(r, 2)\n",
      "        err_norm_prev = 0\n",
      "        beta = np.zeros(X.shape[1])\n",
      "        while self.card(beta) < k:\n",
      "            all_inner_products = X.T.dot(r) - np.sum(r)*feature_avg\n",
      "            max_index, max_abs_inner_product = max(enumerate(np.abs(all_inner_products)), key=operator.itemgetter(1))\n",
      "            g = X[:, max_index]\n",
      "            g = np.squeeze(np.asarray(g.todense())) - feature_avg[max_index]\n",
      "            a = all_inner_products[max_index]\n",
      "            a /= np.linalg.norm(g, 2)**2\n",
      "            beta[max_index] += a\n",
      "            r = r - a*g\n",
      "            err_norm_prev = err_norm\n",
      "            err_norm = np.linalg.norm(r, 2)\n",
      "            if np.abs(err_norm - err_norm_prev) <= tol:\n",
      "                break\n",
      "        return beta\n",
      "\n",
      "    def thresholder(self, y,m):\n",
      "        sort_y = sorted(np.abs(y))\n",
      "        thresh = sort_y[-m]\n",
      "\n",
      "        non_thresholded_indices = (np.abs(y) > thresh)\n",
      "        n_nonzero_indices = sum(non_thresholded_indices)\n",
      "        if n_nonzero_indices < m:\n",
      "            collisions = np.where((np.abs(y)==thresh))[0]\n",
      "            passed = np.random.choice(collisions,m-n_nonzero_indices)\n",
      "            non_thresholded_indices[passed] = 1\n",
      "\n",
      "        y_new = non_thresholded_indices * y\n",
      "\n",
      "        return y_new, thresh\n",
      "\n",
      "    def AIHT_sparse(self, y, X, beta, k, feature_avg=None, alpha=0, example_weights=None, max_iters=10000, tol=10**-16):\n",
      "        \"\"\"Solves DORE accelerated IHT with a sparse matrix X.\n",
      "        \"\"\"\n",
      "        m, n = X.shape\n",
      "        y = np.squeeze(np.asarray(y))\n",
      "        err_norm_prev = 0\n",
      "        beta_0 = beta\n",
      "        beta_prev = beta\n",
      "        X_beta = 0\n",
      "        X_beta_prev = 0\n",
      "        X_beta_twice_prev = 0\n",
      "\n",
      "        if feature_avg is None:\n",
      "            feature_avg = np.zeros(n)\n",
      "    \n",
      "        if example_weights is None:\n",
      "            example_weights = np.ones(m)\n",
      "    \n",
      "        for iter_ in xrange(max_iters):\n",
      "            X_beta_twice_prev = X_beta_prev\n",
      "            X_beta_prev = X_beta\n",
      "            X_beta = (X.dot(beta) - feature_avg.dot(beta))\n",
      "            X_beta = np.squeeze(np.asarray(X_beta))\n",
      "            err = y - example_weights*X_beta\n",
      "            err_reg = -alpha*beta\n",
      "            norm_change = ((np.linalg.norm(beta - beta_prev)**2)/n)\n",
      "            print err.dot(err) + err_reg.dot(err_reg), norm_change, np.linalg.norm(beta)\n",
      "\n",
      "            if iter_ > 0 and (norm_change <= tol):\n",
      "                break\n",
      "\n",
      "            beta_t = beta + np.squeeze(np.asarray(X.T.dot(err))) - err.sum()*feature_avg + alpha*err_reg\n",
      "            beta_t = np.squeeze(np.asarray(beta_t))\n",
      "    \n",
      "            beta_t, thresh = self.thresholder(beta_t,k)\n",
      "            X_beta = X.dot(beta_t) - feature_avg.dot(beta_t)\n",
      "            X_beta = np.squeeze(X_beta)\n",
      "            err = y - example_weights*X_beta\n",
      "            err_reg = -alpha*beta_t\n",
      "    \n",
      "            beta_t_star = beta_t\n",
      "            if iter_ > 2:\n",
      "                delta_X_beta = X_beta - X_beta_prev\n",
      "                delta_regularization = alpha*(beta_t - beta)\n",
      "                dp = delta_X_beta.dot(example_weights*delta_X_beta) + delta_regularization.dot(delta_regularization)\n",
      "                if dp > 0:\n",
      "                    a1 = (delta_X_beta.dot(err) + delta_regularization.dot(err_reg))/dp\n",
      "                    X_beta_1 = (1+a1)*X_beta - a1*X_beta_prev\n",
      "                    beta_1 = beta_t + a1*(beta_t - beta)\n",
      "                    err_1 = y - example_weights*X_beta_1\n",
      "                    err_1_reg = -alpha*beta_1\n",
      "    \n",
      "                    delta_X_beta = X_beta_1 - X_beta_twice_prev\n",
      "                    delta_regularization = alpha*(beta_1 - beta_prev)\n",
      "                    dp = delta_X_beta.dot(example_weights*delta_X_beta) + delta_regularization.dot(delta_regularization)\n",
      "                    if dp > 0:\n",
      "                        a2 = (delta_X_beta.dot(err_1) + delta_regularization.dot(err_1_reg))/dp\n",
      "                        beta_2 = beta_1 + a2*(beta_1 - beta_prev)\n",
      "                        beta_2, thresh = self.thresholder(beta_2,k)\n",
      "    \n",
      "                        X_beta_2 = X.dot(beta_2) - feature_avg.dot(beta_2)\n",
      "                        X_beta_2 = np.squeeze(np.asarray(X_beta_2))\n",
      "                        err_2 = y - example_weights*X_beta_2\n",
      "                        err_reg_2 = -alpha*beta_2\n",
      "    \n",
      "                        if (err_2.dot(err_2) + err_reg_2.dot(err_reg_2)) / (err.dot(err) + err_reg.dot(err_reg)) < 1:\n",
      "                            beta_t_star = beta_2\n",
      "                            X_beta = X_beta_2\n",
      "    \n",
      "            beta_prev = beta\n",
      "            beta = beta_t_star\n",
      "    \n",
      "        return beta"
     ],
     "language": "python",
     "metadata": {},
     "outputs": [],
     "prompt_number": 6
    },
    {
     "cell_type": "code",
     "collapsed": false,
     "input": [
      "classifier = IHTClassifier()\n",
      "sparse_matrix = scipy.sparse.csr_matrix(A)\n",
      "classifier.train(sparse_matrix, b, verbose=True)\n",
      "IHT_weights = classifier.beta"
     ],
     "language": "python",
     "metadata": {},
     "outputs": [
      {
       "output_type": "stream",
       "stream": "stdout",
       "text": [
        "Preconditioning matrix\n",
        "Matching pursuits\n",
        "Running iterative hard thresholding"
       ]
      },
      {
       "output_type": "stream",
       "stream": "stdout",
       "text": [
        "\n",
        "1114.3443874 0.0 41.1595469943\n",
        "1114.03128693 0.000177429632349 41.212723608\n",
        "1113.80272938 0.000128858119517 41.2644914949\n",
        "1113.6324353 9.55982925177e-05 41.314014697\n",
        "1113.08641197 0.00450934562576 41.7276385181\n",
        "1113.02786404 0.00038929626066 41.8534994139\n",
        "1113.02156124 4.09314131654e-05 41.8845412917\n",
        "1113.02067367 6.43117531524e-06 41.8762264887\n",
        "1113.02057123 6.81963668066e-07 41.8815953236\n",
        "1113.02055595 1.03387384237e-07 41.881375615\n",
        "1113.02055301 1.92059274019e-08 41.8825267698\n",
        "1113.02055265"
       ]
      },
      {
       "output_type": "stream",
       "stream": "stdout",
       "text": [
        " 2.3340951747e-09 41.8825856257\n",
        "1113.02055261 3.30581430029e-10 41.8826316466\n",
        "1113.0205526 3.25497303841e-11 41.8826120422\n",
        "1113.0205526 2.58780816148e-12 41.882608911\n",
        "1113.0205526 1.37239494167e-13 41.882605604\n",
        "1113.0205526 1.5083054197e-14 41.8826045644\n",
        "1113.0205526 2.24180535262e-15 41.8826040434\n",
        "1113.0205526 4.46503410301e-18 41.8826040467\n"
       ]
      }
     ],
     "prompt_number": 7
    },
    {
     "cell_type": "code",
     "collapsed": false,
     "input": [
      "####################################################################################\n",
      "# Sorts words by their weights of the above computed portion                       #\n",
      "####################################################################################\n",
      "\n",
      "print(\"IHT Keywords\")\n",
      "all_terms = [(x, IHT_weights[i]) for i, x in enumerate(features)]\n",
      "all_terms.sort(key=lambda x: x[1], reverse=True)\n",
      "print([x[0] for x in all_terms[:20]])\n",
      "\n",
      "print(\"Lasso Keywords\")\n",
      "for index, weights in enumerate(lasso_weights):\n",
      "    all_terms = [(x, weights[i]) for i, x in enumerate(features)]\n",
      "    all_terms.sort(key=lambda x: x[1], reverse=True)\n",
      "    print([x[0] for x in all_terms[:20]])"
     ],
     "language": "python",
     "metadata": {},
     "outputs": [
      {
       "output_type": "stream",
       "stream": "stdout",
       "text": [
        "IHT Keywords\n",
        "[u'battle', u'virus', u'star', u'animation', u'carter', u'force', u'special', u'mike', u'tell', u'perfectly', u'life', u'captain', u'mean', u'episode', u'hero', u'street', u'journal', u'aside', u'telling', u'join']\n",
        "Lasso Keywords\n",
        "[u'battle', u'memorable', u'particular', u'street', u'remains', u'provide', u'adult', u'middle', u'episode', u'hard', u'classic', u'quality', u'stuff', u'act', u'thrown', u'atmosphere', u'list', u'stay', u'left', u'poor']"
       ]
      },
      {
       "output_type": "stream",
       "stream": "stdout",
       "text": [
        "\n",
        "[u'battle', u'memorable', u'particular', u'street', u'remains', u'provide', u'middle', u'adult', u'episode', u'hard', u'classic', u'quality', u'act', u'stuff', u'stay', u'atmosphere', u'left', u'thrown', u'list', u'poor']"
       ]
      },
      {
       "output_type": "stream",
       "stream": "stdout",
       "text": [
        "\n",
        "[u'battle', u'memorable', u'particular', u'street', u'remains', u'middle', u'provide', u'adult', u'episode', u'hard', u'classic', u'quality', u'act', u'stuff', u'poor', u'left', u'atmosphere', u'stay', u'list', u'thrown']"
       ]
      },
      {
       "output_type": "stream",
       "stream": "stdout",
       "text": [
        "\n",
        "[u'battle', u'memorable', u'particular', u'street', u'remains', u'middle', u'provide', u'episode', u'adult', u'hard', u'classic', u'quality', u'act', u'poor', u'left', u'stuff', u'atmosphere', u'stay', u'star', u'nearly']"
       ]
      },
      {
       "output_type": "stream",
       "stream": "stdout",
       "text": [
        "\n",
        "[u'battle', u'memorable', u'particular', u'street', u'remains', u'middle', u'episode', u'provide', u'hard', u'adult', u'quality', u'classic', u'act', u'poor', u'left', u'atmosphere', u'nearly', u'stuff', u'star', u'stay']\n",
        "[u'battle', u'particular', u'memorable', u'street', u'remains', u'middle', u'episode', u'provide', u'hard', u'quality', u'act', u'adult', u'classic', u'poor', u'nearly', u'left', u'star', u'atmosphere', u'stuff', u'stay']"
       ]
      },
      {
       "output_type": "stream",
       "stream": "stdout",
       "text": [
        "\n",
        "[u'battle', u'particular', u'memorable', u'street', u'middle', u'remains', u'episode', u'provide', u'hard', u'act', u'quality', u'classic', u'adult', u'poor', u'nearly', u'left', u'star', u'atmosphere', u'stuff', u'stay']\n",
        "[u'battle', u'particular', u'memorable', u'street', u'middle', u'episode', u'remains', u'hard', u'provide', u'act', u'quality', u'classic', u'nearly', u'poor', u'adult', u'left', u'star', u'atmosphere', u'animation', u'stay']"
       ]
      },
      {
       "output_type": "stream",
       "stream": "stdout",
       "text": [
        "\n",
        "[u'battle', u'particular', u'memorable', u'street', u'middle', u'episode', u'remains', u'hard', u'act', u'classic', u'quality', u'provide', u'nearly', u'poor', u'left', u'star', u'adult', u'atmosphere', u'animation', u'entirely']\n",
        "[u'battle', u'particular', u'memorable', u'middle', u'street', u'episode', u'remains', u'act', u'hard', u'classic', u'quality', u'nearly', u'provide', u'poor', u'left', u'star', u'atmosphere', u'adult', u'animation', u'force']"
       ]
      },
      {
       "output_type": "stream",
       "stream": "stdout",
       "text": [
        "\n",
        "[u'battle', u'particular', u'memorable', u'episode', u'middle', u'street', u'act', u'remains', u'classic', u'hard', u'nearly', u'quality', u'poor', u'provide', u'left', u'star', u'atmosphere', u'animation', u'force', u'entirely']\n",
        "[u'battle', u'particular', u'memorable', u'episode', u'middle', u'street', u'act', u'nearly', u'classic', u'hard', u'remains', u'quality', u'poor', u'left', u'star', u'provide', u'force', u'atmosphere', u'animation', u'entirely']"
       ]
      },
      {
       "output_type": "stream",
       "stream": "stdout",
       "text": [
        "\n",
        "[u'battle', u'particular', u'episode', u'memorable', u'middle', u'street', u'nearly', u'classic', u'act', u'quality', u'hard', u'poor', u'remains', u'left', u'star', u'force', u'provide', u'atmosphere', u'animation', u'incredibly']\n",
        "[u'battle', u'particular', u'episode', u'memorable', u'middle', u'nearly', u'street', u'classic', u'act', u'quality', u'hard', u'poor', u'remains', u'star', u'left', u'force', u'animation', u'incredibly', u'atmosphere', u'provide']"
       ]
      },
      {
       "output_type": "stream",
       "stream": "stdout",
       "text": [
        "\n",
        "[u'battle', u'particular', u'episode', u'middle', u'memorable', u'nearly', u'quality', u'street', u'act', u'classic', u'poor', u'hard', u'star', u'left', u'force', u'remains', u'incredibly', u'animation', u'virus', u'entirely']\n",
        "[u'battle', u'particular', u'episode', u'nearly', u'middle', u'quality', u'memorable', u'act', u'classic', u'street', u'poor', u'hard', u'star', u'left', u'force', u'remains', u'incredibly', u'virus', u'animation', u'entirely']"
       ]
      },
      {
       "output_type": "stream",
       "stream": "stdout",
       "text": [
        "\n",
        "[u'battle', u'particular', u'episode', u'nearly', u'middle', u'quality', u'act', u'classic', u'memorable', u'poor', u'street', u'hard', u'star', u'force', u'left', u'incredibly', u'virus', u'animation', u'entirely', u'remains']\n",
        "[u'battle', u'particular', u'episode', u'nearly', u'quality', u'middle', u'classic', u'act', u'poor', u'hard', u'street', u'memorable', u'star', u'force', u'left', u'incredibly', u'virus', u'animation', u'entirely', u'atmosphere']"
       ]
      },
      {
       "output_type": "stream",
       "stream": "stdout",
       "text": [
        "\n",
        "[u'battle', u'particular', u'episode', u'quality', u'nearly', u'middle', u'classic', u'act', u'hard', u'poor', u'star', u'street', u'force', u'memorable', u'incredibly', u'left', u'virus', u'animation', u'tension', u'entirely']"
       ]
      },
      {
       "output_type": "stream",
       "stream": "stdout",
       "text": [
        "\n",
        "[u'battle', u'particular', u'episode', u'quality', u'nearly', u'middle', u'classic', u'act', u'star', u'hard', u'poor', u'force', u'street', u'incredibly', u'memorable', u'virus', u'animation', u'left', u'tension', u'atmosphere']"
       ]
      },
      {
       "output_type": "stream",
       "stream": "stdout",
       "text": [
        "\n",
        "[u'battle', u'particular', u'episode', u'quality', u'nearly', u'classic', u'middle', u'star', u'act', u'hard', u'poor', u'force', u'incredibly', u'virus', u'street', u'animation', u'tension', u'left', u'memorable', u'atmosphere']\n",
        "[u'battle', u'particular', u'quality', u'episode', u'nearly', u'star', u'classic', u'middle', u'hard', u'act', u'poor', u'force', u'incredibly', u'virus', u'animation', u'tension', u'street', u'left', u'atmosphere', u'nudity']"
       ]
      },
      {
       "output_type": "stream",
       "stream": "stdout",
       "text": [
        "\n",
        "[u'battle', u'particular', u'quality', u'episode', u'nearly', u'star', u'classic', u'hard', u'middle', u'act', u'force', u'poor', u'virus', u'incredibly', u'animation', u'tension', u'nudity', u'left', u'street', u'atmosphere']\n",
        "[u'battle', u'quality', u'particular', u'episode', u'nearly', u'star', u'hard', u'classic', u'force', u'virus', u'act', u'middle', u'animation', u'tension', u'incredibly', u'poor', u'nudity', u'left', u'atmosphere', u'flick']"
       ]
      },
      {
       "output_type": "stream",
       "stream": "stdout",
       "text": [
        "\n",
        "[u'battle', u'quality', u'star', u'particular', u'episode', u'nearly', u'force', u'hard', u'virus', u'classic', u'tension', u'animation', u'act', u'middle', u'incredibly', u'poor', u'nudity', u'left', u'telling', u'flick']\n",
        "[u'battle', u'quality', u'star', u'force', u'episode', u'particular', u'nearly', u'hard', u'virus', u'tension', u'animation', u'classic', u'act', u'nudity', u'middle', u'poor', u'incredibly', u'left', u'telling', u'flick']"
       ]
      },
      {
       "output_type": "stream",
       "stream": "stdout",
       "text": [
        "\n",
        "[u'battle', u'quality', u'star', u'force', u'tension', u'virus', u'hard', u'episode', u'nearly', u'particular', u'animation', u'classic', u'nudity', u'act', u'middle', u'poor', u'incredibly', u'left', u'telling', u'flick']\n",
        "[u'battle', u'quality', u'star', u'force', u'tension', u'virus', u'hard', u'nearly', u'episode', u'animation', u'nudity', u'particular', u'act', u'classic', u'poor', u'middle', u'left', u'incredibly', u'telling', u'flick']"
       ]
      },
      {
       "output_type": "stream",
       "stream": "stdout",
       "text": [
        "\n",
        "[u'battle', u'force', u'star', u'tension', u'virus', u'quality', u'hard', u'nearly', u'nudity', u'animation', u'episode', u'particular', u'act', u'classic', u'poor', u'middle', u'left', u'telling', u'incredibly', u'carter']\n",
        "[u'battle', u'virus', u'force', u'star', u'tension', u'quality', u'hard', u'nudity', u'animation', u'nearly', u'episode', u'act', u'particular', u'classic', u'poor', u'telling', u'left', u'middle', u'incredibly', u'carter']"
       ]
      },
      {
       "output_type": "stream",
       "stream": "stdout",
       "text": [
        "\n",
        "[u'battle', u'virus', u'star', u'force', u'tension', u'hard', u'nudity', u'quality', u'animation', u'nearly', u'episode', u'act', u'particular', u'telling', u'poor', u'classic', u'incredibly', u'land', u'middle', u'apart']"
       ]
      },
      {
       "output_type": "stream",
       "stream": "stdout",
       "text": [
        "\n",
        "[u'battle', u'virus', u'star', u'force', u'tension', u'nudity', u'hard', u'quality', u'animation', u'episode', u'nearly', u'act', u'particular', u'telling', u'land', u'poor', u'incredibly', u'classic', u'apart', u'carter']"
       ]
      },
      {
       "output_type": "stream",
       "stream": "stdout",
       "text": [
        "\n",
        "[u'battle', u'virus', u'star', u'force', u'nudity', u'tension', u'hard', u'quality', u'episode', u'animation', u'telling', u'nearly', u'act', u'particular', u'land', u'poor', u'incredibly', u'apart', u'carter', u'classic']"
       ]
      },
      {
       "output_type": "stream",
       "stream": "stdout",
       "text": [
        "\n",
        "[u'battle', u'virus', u'star', u'force', u'tension', u'nudity', u'episode', u'quality', u'telling', u'animation', u'hard', u'particular', u'act', u'land', u'nearly', u'apart', u'incredibly', u'poor', u'element', u'carter']"
       ]
      },
      {
       "output_type": "stream",
       "stream": "stdout",
       "text": [
        "\n",
        "[u'battle', u'virus', u'star', u'force', u'nudity', u'tension', u'episode', u'telling', u'quality', u'animation', u'land', u'particular', u'apart', u'act', u'element', u'hard', u'nearly', u'producer', u'incredibly', u'poor']"
       ]
      },
      {
       "output_type": "stream",
       "stream": "stdout",
       "text": [
        "\n",
        "[u'battle', u'virus', u'star', u'force', u'tension', u'nudity', u'episode', u'telling', u'quality', u'animation', u'land', u'particular', u'element', u'apart', u'producer', u'act', u'nearly', u'incredibly', u'carter', u'poor']"
       ]
      },
      {
       "output_type": "stream",
       "stream": "stdout",
       "text": [
        "\n",
        "[u'battle', u'virus', u'star', u'force', u'nudity', u'tension', u'episode', u'telling', u'land', u'animation', u'quality', u'particular', u'element', u'producer', u'apart', u'act', u'nearly', u'carter', u'incredibly', u'poor']"
       ]
      },
      {
       "output_type": "stream",
       "stream": "stdout",
       "text": [
        "\n",
        "[u'battle', u'virus', u'star', u'force', u'nudity', u'tension', u'telling', u'episode', u'element', u'land', u'producer', u'animation', u'particular', u'apart', u'quality', u'act', u'carter', u'incredibly', u'poor', u'nearly']"
       ]
      },
      {
       "output_type": "stream",
       "stream": "stdout",
       "text": [
        "\n",
        "[u'battle', u'virus', u'star', u'force', u'nudity', u'tension', u'telling', u'episode', u'element', u'producer', u'land', u'animation', u'apart', u'particular', u'quality', u'average', u'carter', u'act', u'race', u'sit']"
       ]
      },
      {
       "output_type": "stream",
       "stream": "stdout",
       "text": [
        "\n",
        "[u'battle', u'virus', u'star', u'force', u'nudity', u'tension', u'telling', u'episode', u'element', u'producer', u'land', u'apart', u'animation', u'particular', u'quality', u'average', u'sit', u'perfectly', u'race', u'basically']"
       ]
      },
      {
       "output_type": "stream",
       "stream": "stdout",
       "text": [
        "\n",
        "[u'battle', u'virus', u'force', u'star', u'nudity', u'tension', u'telling', u'episode', u'producer', u'element', u'apart', u'land', u'animation', u'particular', u'average', u'quality', u'sit', u'perfectly', u'race', u'basically']"
       ]
      },
      {
       "output_type": "stream",
       "stream": "stdout",
       "text": [
        "\n",
        "[u'battle', u'virus', u'force', u'nudity', u'star', u'telling', u'tension', u'episode', u'producer', u'element', u'apart', u'animation', u'land', u'particular', u'perfectly', u'average', u'sit', u'race', u'quality', u'powerful']"
       ]
      },
      {
       "output_type": "stream",
       "stream": "stdout",
       "text": [
        "\n",
        "[u'battle', u'virus', u'force', u'nudity', u'star', u'telling', u'tension', u'episode', u'producer', u'element', u'apart', u'animation', u'perfectly', u'land', u'sit', u'average', u'particular', u'race', u'powerful', u'quality']"
       ]
      },
      {
       "output_type": "stream",
       "stream": "stdout",
       "text": [
        "\n",
        "[u'battle', u'virus', u'force', u'nudity', u'star', u'telling', u'tension', u'episode', u'element', u'producer', u'apart', u'animation', u'perfectly', u'sit', u'average', u'land', u'particular', u'race', u'powerful', u'mix']"
       ]
      },
      {
       "output_type": "stream",
       "stream": "stdout",
       "text": [
        "\n",
        "[u'battle', u'virus', u'force', u'nudity', u'telling', u'star', u'episode', u'tension', u'element', u'producer', u'animation', u'perfectly', u'apart', u'average', u'sit', u'land', u'particular', u'race', u'powerful', u'mix']"
       ]
      },
      {
       "output_type": "stream",
       "stream": "stdout",
       "text": [
        "\n",
        "[u'battle', u'virus', u'force', u'nudity', u'telling', u'element', u'episode', u'producer', u'tension', u'perfectly', u'star', u'apart', u'average', u'sit', u'animation', u'land', u'particular', u'race', u'basically', u'mix']\n",
        "[u'battle', u'virus', u'force', u'nudity', u'telling', u'element', u'episode', u'star', u'tension', u'perfectly', u'producer', u'animation', u'average', u'sit', u'apart', u'land', u'race', u'mix', u'powerful', u'particular']"
       ]
      },
      {
       "output_type": "stream",
       "stream": "stdout",
       "text": [
        "\n",
        "[u'battle', u'virus', u'force', u'nudity', u'telling', u'element', u'episode', u'star', u'tension', u'perfectly', u'animation', u'producer', u'average', u'sit', u'apart', u'mix', u'race', u'land', u'powerful', u'cause']\n",
        "[u'battle', u'virus', u'nudity', u'force', u'telling', u'element', u'episode', u'perfectly', u'producer', u'animation', u'star', u'average', u'tension', u'sit', u'apart', u'mix', u'race', u'cause', u'land', u'powerful']"
       ]
      },
      {
       "output_type": "stream",
       "stream": "stdout",
       "text": [
        "\n",
        "[u'battle', u'virus', u'nudity', u'force', u'telling', u'element', u'episode', u'perfectly', u'animation', u'producer', u'sit', u'average', u'tension', u'star', u'apart', u'mix', u'race', u'cause', u'land', u'powerful']\n",
        "[u'battle', u'virus', u'nudity', u'force', u'telling', u'element', u'episode', u'perfectly', u'animation', u'sit', u'producer', u'average', u'tension', u'apart', u'star', u'mix', u'cause', u'race', u'ship', u'land']"
       ]
      },
      {
       "output_type": "stream",
       "stream": "stdout",
       "text": [
        "\n",
        "[u'battle', u'virus', u'nudity', u'force', u'telling', u'element', u'episode', u'perfectly', u'animation', u'sit', u'producer', u'average', u'tension', u'mix', u'apart', u'cause', u'star', u'race', u'ship', u'land']\n",
        "[u'battle', u'virus', u'nudity', u'force', u'telling', u'element', u'episode', u'animation', u'perfectly', u'sit', u'average', u'producer', u'mix', u'tension', u'apart', u'cause', u'race', u'star', u'ship', u'land']"
       ]
      },
      {
       "output_type": "stream",
       "stream": "stdout",
       "text": [
        "\n",
        "[u'battle', u'nudity', u'force', u'virus', u'telling', u'element', u'producer', u'star', u'sit', u'episode', u'perfectly', u'animation', u'average', u'tension', u'mix', u'ship', u'apart', u'cause', u'race', u'pace']"
       ]
      },
      {
       "output_type": "stream",
       "stream": "stdout",
       "text": [
        "\n",
        "[u'battle', u'virus', u'force', u'nudity', u'telling', u'element', u'episode', u'animation', u'sit', u'perfectly', u'mix', u'average', u'producer', u'cause', u'apart', u'race', u'tension', u'ship', u'star', u'pace']"
       ]
      },
      {
       "output_type": "stream",
       "stream": "stdout",
       "text": [
        "\n",
        "[u'battle', u'force', u'virus', u'nudity', u'telling', u'element', u'episode', u'animation', u'sit', u'perfectly', u'mix', u'average', u'producer', u'cause', u'race', u'apart', u'ship', u'tension', u'pace', u'brought']"
       ]
      },
      {
       "output_type": "stream",
       "stream": "stdout",
       "text": [
        "\n",
        "[u'battle', u'force', u'virus', u'nudity', u'telling', u'element', u'animation', u'episode', u'mix', u'sit', u'perfectly', u'average', u'producer', u'cause', u'ship', u'race', u'apart', u'pace', u'tension', u'brought']"
       ]
      },
      {
       "output_type": "stream",
       "stream": "stdout",
       "text": [
        "\n",
        "[u'battle', u'force', u'nudity', u'virus', u'element', u'telling', u'animation', u'episode', u'race', u'cause', u'mix', u'perfectly', u'sit', u'average', u'producer', u'pace', u'ship', u'apart', u'tension', u'trek']"
       ]
      },
      {
       "output_type": "stream",
       "stream": "stdout",
       "text": [
        "\n",
        "[u'battle', u'force', u'virus', u'nudity', u'telling', u'animation', u'element', u'episode', u'ship', u'mix', u'race', u'producer', u'cause', u'sit', u'visually', u'average', u'perfectly', u'apart', u'pace', u'tension']"
       ]
      },
      {
       "output_type": "stream",
       "stream": "stdout",
       "text": [
        "\n",
        "[u'battle', u'force', u'virus', u'nudity', u'telling', u'element', u'animation', u'episode', u'mix', u'ship', u'race', u'producer', u'cause', u'sit', u'visually', u'average', u'trek', u'pace', u'perfectly', u'apart']\n",
        "[u'battle', u'force', u'virus', u'nudity', u'telling', u'element', u'animation', u'episode', u'mix', u'ship', u'race', u'cause', u'visually', u'sit', u'producer', u'average', u'pace', u'trek', u'apart', u'perfectly']"
       ]
      },
      {
       "output_type": "stream",
       "stream": "stdout",
       "text": [
        "\n",
        "[u'battle', u'force', u'virus', u'nudity', u'telling', u'animation', u'element', u'episode', u'mix', u'ship', u'race', u'visually', u'cause', u'producer', u'sit', u'trek', u'army', u'average', u'pace', u'journal']\n",
        "[u'battle', u'force', u'virus', u'nudity', u'animation', u'telling', u'element', u'mix', u'ship', u'episode', u'race', u'visually', u'cause', u'army', u'producer', u'sit', u'trek', u'pace', u'average', u'brought']"
       ]
      },
      {
       "output_type": "stream",
       "stream": "stdout",
       "text": [
        "\n",
        "[u'battle', u'force', u'virus', u'telling', u'animation', u'nudity', u'element', u'ship', u'mix', u'episode', u'visually', u'army', u'race', u'cause', u'trek', u'producer', u'pace', u'average', u'sit', u'journal']\n",
        "[u'battle', u'virus', u'force', u'animation', u'telling', u'element', u'mix', u'ship', u'nudity', u'visually', u'army', u'episode', u'race', u'trek', u'cause', u'pace', u'producer', u'sit', u'journal', u'average']"
       ]
      },
      {
       "output_type": "stream",
       "stream": "stdout",
       "text": [
        "\n",
        "[u'battle', u'virus', u'force', u'animation', u'telling', u'ship', u'mix', u'element', u'army', u'visually', u'episode', u'nudity', u'race', u'cause', u'trek', u'producer', u'pace', u'journal', u'sit', u'powerful']\n",
        "[u'battle', u'virus', u'force', u'animation', u'telling', u'army', u'mix', u'visually', u'ship', u'element', u'race', u'episode', u'nudity', u'trek', u'journal', u'pace', u'cause', u'sit', u'producer', u'recommend']"
       ]
      },
      {
       "output_type": "stream",
       "stream": "stdout",
       "text": [
        "\n",
        "[u'battle', u'virus', u'force', u'animation', u'telling', u'army', u'visually', u'mix', u'race', u'element', u'episode', u'ship', u'nudity', u'journal', u'trek', u'incredibly', u'pace', u'cause', u'sit', u'powerful']\n",
        "[u'battle', u'virus', u'force', u'animation', u'telling', u'army', u'visually', u'mix', u'ship', u'element', u'race', u'episode', u'trek', u'journal', u'saving', u'nudity', u'pace', u'cause', u'recommend', u'sit']"
       ]
      },
      {
       "output_type": "stream",
       "stream": "stdout",
       "text": [
        "\n",
        "[u'battle', u'virus', u'force', u'animation', u'army', u'telling', u'visually', u'mix', u'saving', u'race', u'element', u'ship', u'episode', u'journal', u'trek', u'pace', u'nudity', u'incredibly', u'cause', u'recommend']\n",
        "[u'battle', u'virus', u'animation', u'force', u'army', u'telling', u'visually', u'mix', u'saving', u'race', u'episode', u'element', u'journal', u'ship', u'trek', u'pace', u'cause', u'incredibly', u'nudity', u'powerful']"
       ]
      },
      {
       "output_type": "stream",
       "stream": "stdout",
       "text": [
        "\n",
        "[u'battle', u'virus', u'animation', u'force', u'army', u'saving', u'visually', u'telling', u'mix', u'race', u'journal', u'episode', u'element', u'ship', u'trek', u'pace', u'incredibly', u'cause', u'recommend', u'nudity']\n",
        "[u'battle', u'virus', u'animation', u'force', u'army', u'saving', u'visually', u'telling', u'mix', u'journal', u'race', u'episode', u'element', u'trek', u'pace', u'ship', u'incredibly', u'recommend', u'masterpiece', u'cause']"
       ]
      },
      {
       "output_type": "stream",
       "stream": "stdout",
       "text": [
        "\n",
        "[u'battle', u'virus', u'animation', u'saving', u'army', u'force', u'visually', u'journal', u'telling', u'mix', u'race', u'war', u'episode', u'element', u'trek', u'masterpiece', u'pace', u'incredibly', u'recommend', u'powerful']\n",
        "[u'battle', u'virus', u'animation', u'saving', u'army', u'force', u'war', u'visually', u'journal', u'race', u'telling', u'mix', u'episode', u'element', u'planet', u'masterpiece', u'trek', u'captain', u'powerful', u'pace']"
       ]
      },
      {
       "output_type": "stream",
       "stream": "stdout",
       "text": [
        "\n",
        "[u'battle', u'virus', u'saving', u'animation', u'army', u'force', u'war', u'visually', u'race', u'journal', u'mix', u'telling', u'episode', u'planet', u'masterpiece', u'captain', u'element', u'powerful', u'disappointing', u'incredibly']\n",
        "[u'battle', u'virus', u'saving', u'army', u'animation', u'war', u'force', u'visually', u'race', u'journal', u'telling', u'mix', u'planet', u'episode', u'captain', u'epic', u'masterpiece', u'disappointing', u'incredibly', u'powerful']"
       ]
      },
      {
       "output_type": "stream",
       "stream": "stdout",
       "text": [
        "\n",
        "[u'battle', u'virus', u'saving', u'army', u'animation', u'war', u'force', u'visually', u'race', u'journal', u'mix', u'telling', u'episode', u'planet', u'captain', u'epic', u'masterpiece', u'disappointing', u'powerful', u'element']\n",
        "[u'battle', u'war', u'saving', u'virus', u'army', u'animation', u'force', u'visually', u'race', u'epic', u'journal', u'private', u'captain', u'mix', u'masterpiece', u'planet', u'disappointing', u'telling', u'episode', u'soldier']"
       ]
      },
      {
       "output_type": "stream",
       "stream": "stdout",
       "text": [
        "\n",
        "[u'battle', u'saving', u'war', u'virus', u'army', u'animation', u'force', u'visually', u'private', u'race', u'journal', u'epic', u'planet', u'soldier', u'disappointing', u'masterpiece', u'captain', u'mix', u'telling', u'powerful']\n",
        "[u'battle', u'war', u'saving', u'army', u'virus', u'animation', u'force', u'visually', u'private', u'race', u'epic', u'planet', u'soldier', u'captain', u'disappointing', u'journal', u'masterpiece', u'powerful', u'episode', u'mix']"
       ]
      },
      {
       "output_type": "stream",
       "stream": "stdout",
       "text": [
        "\n",
        "[u'battle', u'war', u'saving', u'army', u'private', u'virus', u'soldier', u'animation', u'epic', u'force', u'visually', u'planet', u'race', u'disappointing', u'captain', u'masterpiece', u'journal', u'powerful', u'gore', u'list']"
       ]
      },
      {
       "output_type": "stream",
       "stream": "stdout",
       "text": [
        "\n",
        "[u'battle', u'war', u'saving', u'army', u'virus', u'animation', u'private', u'soldier', u'force', u'visually', u'epic', u'race', u'planet', u'disappointing', u'captain', u'journal', u'masterpiece', u'powerful', u'gore', u'mix']"
       ]
      },
      {
       "output_type": "stream",
       "stream": "stdout",
       "text": [
        "\n",
        "[u'battle', u'war', u'saving', u'army', u'animation', u'virus', u'private', u'force', u'soldier', u'visually', u'epic', u'planet', u'race', u'captain', u'disappointing', u'masterpiece', u'journal', u'powerful', u'episode', u'gore']"
       ]
      },
      {
       "output_type": "stream",
       "stream": "stdout",
       "text": [
        "\n",
        "[u'battle', u'war', u'saving', u'army', u'private', u'animation', u'virus', u'soldier', u'force', u'epic', u'visually', u'planet', u'race', u'captain', u'disappointing', u'masterpiece', u'journal', u'powerful', u'queen', u'gore']"
       ]
      },
      {
       "output_type": "stream",
       "stream": "stdout",
       "text": [
        "\n",
        "[u'battle', u'saving', u'war', u'army', u'private', u'virus', u'soldier', u'animation', u'visually', u'journal', u'epic', u'masterpiece', u'disappointing', u'force', u'captain', u'race', u'gore', u'mix', u'avoid', u'planet']\n",
        "[u'battle', u'war', u'saving', u'army', u'private', u'animation', u'virus', u'soldier', u'epic', u'force', u'visually', u'disappointing', u'captain', u'race', u'planet', u'masterpiece', u'journal', u'powerful', u'queen', u'gore']"
       ]
      },
      {
       "output_type": "stream",
       "stream": "stdout",
       "text": [
        "\n",
        "[u'battle', u'war', u'saving', u'army', u'private', u'virus', u'animation', u'soldier', u'epic', u'visually', u'force', u'disappointing', u'captain', u'race', u'masterpiece', u'journal', u'planet', u'queen', u'camp', u'avoid']\n",
        "[u'battle', u'war', u'john', u'star', u'human', u'animation', u'history', u'script', u'black', u'action', u'saving', u'effects', u'army', u'private', u'white', u'life', u'robert', u'epic', u'left', u'role']"
       ]
      },
      {
       "output_type": "stream",
       "stream": "stdout",
       "text": [
        "\n",
        "[u'battle', u'war', u'saving', u'army', u'private', u'animation', u'virus', u'soldier', u'epic', u'visually', u'force', u'captain', u'race', u'disappointing', u'masterpiece', u'planet', u'journal', u'queen', u'camp', u'episode']\n",
        "[u'battle', u'war', u'saving', u'army', u'private', u'animation', u'epic', u'soldier', u'force', u'virus', u'visually', u'race', u'planet', u'captain', u'attack', u'disappointing', u'powerful', u'conflict', u'queen', u'animated']"
       ]
      },
      {
       "output_type": "stream",
       "stream": "stdout",
       "text": [
        "\n",
        "[u'battle', u'war', u'saving', u'army', u'private', u'animation', u'virus', u'soldier', u'epic', u'visually', u'force', u'captain', u'race', u'disappointing', u'masterpiece', u'planet', u'journal', u'queen', u'camp', u'episode']\n",
        "[u'battle', u'saving', u'war', u'army', u'private', u'virus', u'animation', u'soldier', u'epic', u'visually', u'force', u'captain', u'disappointing', u'race', u'masterpiece', u'journal', u'camp', u'queen', u'planet', u'episode']"
       ]
      },
      {
       "output_type": "stream",
       "stream": "stdout",
       "text": [
        "\n",
        "[u'battle', u'saving', u'war', u'army', u'private', u'virus', u'soldier', u'animation', u'epic', u'visually', u'force', u'captain', u'race', u'disappointing', u'masterpiece', u'journal', u'camp', u'queen', u'episode', u'attack']\n",
        "[u'battle', u'war', u'saving', u'army', u'private', u'animation', u'virus', u'soldier', u'epic', u'visually', u'force', u'captain', u'race', u'disappointing', u'masterpiece', u'planet', u'journal', u'camp', u'queen', u'episode']"
       ]
      },
      {
       "output_type": "stream",
       "stream": "stdout",
       "text": [
        "\n",
        "[u'battle', u'saving', u'war', u'army', u'private', u'virus', u'soldier', u'animation', u'epic', u'visually', u'force', u'captain', u'disappointing', u'race', u'masterpiece', u'journal', u'camp', u'queen', u'episode', u'carter']"
       ]
      },
      {
       "output_type": "stream",
       "stream": "stdout",
       "text": [
        "\n",
        "[u'battle', u'saving', u'war', u'army', u'virus', u'soldier', u'animation', u'private', u'epic', u'visually', u'force', u'captain', u'disappointing', u'race', u'masterpiece', u'journal', u'camp', u'episode', u'queen', u'carter']"
       ]
      },
      {
       "output_type": "stream",
       "stream": "stdout",
       "text": [
        "\n",
        "[u'battle', u'war', u'saving', u'army', u'private', u'animation', u'epic', u'soldier', u'virus', u'force', u'visually', u'race', u'captain', u'disappointing', u'planet', u'masterpiece', u'attack', u'powerful', u'queen', u'conflict']"
       ]
      },
      {
       "output_type": "stream",
       "stream": "stdout",
       "text": [
        "\n",
        "[u'journal', u'trailer', u'mix', u'scary', u'contact', u'recommend', u'virus', u'masterpiece', u'budget', u'extremely', u'heavy', u'cause', u'opinion', u'low', u'south', u'blair', u'justin', u'pointless', u'trek', u'saving']\n",
        "[u'battle', u'saving', u'war', u'army', u'virus', u'soldier', u'animation', u'private', u'epic', u'visually', u'force', u'captain', u'disappointing', u'masterpiece', u'race', u'journal', u'camp', u'episode', u'queen', u'carter']"
       ]
      },
      {
       "output_type": "stream",
       "stream": "stdout",
       "text": [
        "\n"
       ]
      }
     ],
     "prompt_number": 13
    },
    {
     "cell_type": "code",
     "collapsed": false,
     "input": [],
     "language": "python",
     "metadata": {},
     "outputs": []
    }
   ],
   "metadata": {}
  }
 ]
}