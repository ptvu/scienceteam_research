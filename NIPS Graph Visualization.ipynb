{
 "metadata": {
  "name": "",
  "signature": "sha256:30eb1a1061a4fbe572eb577279654f705b73d5e23c85d28488bae36b9e5bd501"
 },
 "nbformat": 3,
 "nbformat_minor": 0,
 "worksheets": [
  {
   "cells": [
    {
     "cell_type": "code",
     "collapsed": false,
     "input": [
      "# Import data from graph\n",
      "import cPickle as pickle\n",
      "full_graph = pickle.load(open('nips_full_graph_v3.pickle', 'rb'))\n",
      "index_of = dict([(value['query'], index) for index, value in enumerate(full_graph)])"
     ],
     "language": "python",
     "metadata": {},
     "outputs": [],
     "prompt_number": 85
    },
    {
     "cell_type": "code",
     "collapsed": false,
     "input": [
      "seed = 'optimization'\n",
      "full_graph[index_of[seed]]"
     ],
     "language": "python",
     "metadata": {},
     "outputs": [
      {
       "metadata": {},
       "output_type": "pyout",
       "prompt_number": 86,
       "text": [
        "{'feature_query_id': 7774,\n",
        " 'query': 'optimization',\n",
        " 'result': {'num_neg_documents': 1132,\n",
        "  'num_pos_documents': 368,\n",
        "  'topic_imaging': [('algorithm', 0.010826688116225697),\n",
        "   ('data', 0.0058240668496955675),\n",
        "   ('function', 0.004917672604512865),\n",
        "   ('point', 0.002991131472999865),\n",
        "   ('neural', 0.00243750509308741),\n",
        "   ('system', 0.0020224002802249267),\n",
        "   ('network', 0.0017419790219011654),\n",
        "   ('image', 0.001281466263230983),\n",
        "   ('model', 0.000775818161180152),\n",
        "   ('set', 0.0005121712049987246)],\n",
        "  'total_time': 1.3841779232025146}}"
       ]
      }
     ],
     "prompt_number": 86
    },
    {
     "cell_type": "code",
     "collapsed": false,
     "input": [
      "# Do BFS and get partial nodes to draw\n",
      "from collections import deque\n",
      "import networkx as nx\n",
      "\n",
      "q = deque([full_graph[index_of[seed]]])\n",
      "n_nodes = 5000\n",
      "g = nx.Graph()\n",
      "g.add_node(seed, node_color='r')\n",
      "\n",
      "visited = {}\n",
      "while len(q) != 0 and n_nodes >= 0:\n",
      "    top = q.popleft()\n",
      "    if top['query'] in visited:\n",
      "        continue\n",
      "    visited[top['query']] = True\n",
      "    n_nodes -= 1\n",
      "    for neighbor, weight in top['result']['topic_imaging']:\n",
      "        if neighbor == top['query']:\n",
      "            continue\n",
      "        g.add_edge(top['query'], neighbor)\n",
      "        q.append(full_graph[index_of[neighbor]])\n",
      "print(\"Done\")\n",
      "print len(g.nodes()), len(g.edges())\n",
      "\n",
      "print(\"Rendering...\")\n",
      "nx.write_dot(g,\"nips_graph.dot\")\n",
      "print(\"Done\")\n",
      "from subprocess import check_output\n",
      "out = check_output([\"sfdp -Tpng -Nstyle=filled -Nfillcolor=white -Ecolor=#00000020 -Gratio=fill -Goutputorder=edgesfirst -Goverlap=prism -size=50 nips_graph.dot -o nips_graph.png\"], shell=True)\n",
      "print out"
     ],
     "language": "python",
     "metadata": {},
     "outputs": [
      {
       "output_type": "stream",
       "stream": "stdout",
       "text": [
        "Done\n",
        "37 261\n",
        "Rendering...\n",
        "Done\n"
       ]
      },
      {
       "output_type": "stream",
       "stream": "stdout",
       "text": [
        "\n"
       ]
      }
     ],
     "prompt_number": 87
    },
    {
     "cell_type": "code",
     "collapsed": false,
     "input": [
      "# Command: sfdp -Tpng -Nstyle=filled -Nfillcolor=white -Ecolor=#00000020 -Gratio=fill -Goutputorder=edgesfirst -Goverlap=prism -size=50 nips_graph.dot -o nips_graph.png "
     ],
     "language": "python",
     "metadata": {},
     "outputs": [],
     "prompt_number": 53
    },
    {
     "cell_type": "heading",
     "level": 1,
     "metadata": {},
     "source": [
      "Clustering"
     ]
    },
    {
     "cell_type": "code",
     "collapsed": false,
     "input": [
      "seed = 'convex'\n",
      "from collections import deque\n",
      "import networkx as nx\n",
      "\n",
      "q = deque([full_graph[index_of[seed]]])\n",
      "g = nx.Graph()\n",
      "g.add_node(seed, node_color='r')\n",
      "\n",
      "visited = {}\n",
      "visited[seed] = True\n",
      "while len(q) != 0 and n_nodes >= 0:\n",
      "    top = q.popleft()\n",
      "    for neighbor, weight in top['result']['topic_imaging']:\n",
      "        if neighbor == top['query']:\n",
      "            continue\n",
      "        if neighbor in visited:\n",
      "            continue\n",
      "        visited[neighbor] = True\n",
      "        g.add_edge(top['query'], neighbor)\n",
      "        q.append(full_graph[index_of[neighbor]])\n",
      "print len(g.nodes()), len(g.edges()), g.nodes()\n",
      "\n",
      "print(\"Rendering...\")\n",
      "nx.write_dot(g,\"nips_cluster.dot\")\n",
      "print(\"Done\")\n",
      "from subprocess import check_output\n",
      "out = check_output([\"sfdp -Tpng -Nstyle=filled -Nfillcolor=white -Ecolor=#00000020 -Gratio=fill -Goutputorder=edgesfirst -Goverlap=prism -size=50 nips_cluster.dot -o nips_cluster.png\"], shell=True)\n",
      "print out"
     ],
     "language": "python",
     "metadata": {},
     "outputs": [
      {
       "output_type": "stream",
       "stream": "stdout",
       "text": [
        "37 36 ['layer', 'set', 'features', 'point', 'image', 'neuron', 'feature', 'result', 'learning', 'convex', 'images', 'recognition', 'information', 'network', 'pattern', 'system', 'cell', 'field', 'unit', 'input', 'method', 'function', 'direction', 'object', 'visual', 'output', 'data', 'model', 'training', 'algorithm', 'neural', 'signal', 'motion', 'vector', 'representation', 'problem', 'classifier']\n",
        "Rendering...\n",
        "Done\n"
       ]
      },
      {
       "output_type": "stream",
       "stream": "stdout",
       "text": [
        "\n"
       ]
      }
     ],
     "prompt_number": 88
    },
    {
     "cell_type": "code",
     "collapsed": false,
     "input": [],
     "language": "python",
     "metadata": {},
     "outputs": []
    }
   ],
   "metadata": {}
  }
 ]
}