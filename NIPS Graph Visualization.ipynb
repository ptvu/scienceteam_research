{
 "metadata": {
  "name": "",
  "signature": "sha256:f2946dc4ff6dd3c524fd3eea37405123f14db5dc527b589422f702f7caa44a79"
 },
 "nbformat": 3,
 "nbformat_minor": 0,
 "worksheets": [
  {
   "cells": [
    {
     "cell_type": "code",
     "collapsed": false,
     "input": [
      "# Import data from graph\n",
      "import cPickle as pickle\n",
      "full_graph = pickle.load(open('nips_full_graph.pickle', 'rb'))\n",
      "index_of = dict([(value['query'], index) for index, value in enumerate(full_graph)])"
     ],
     "language": "python",
     "metadata": {},
     "outputs": [],
     "prompt_number": 10
    },
    {
     "cell_type": "code",
     "collapsed": false,
     "input": [
      "# Do BFS and get partial nodes to draw\n",
      "from collections import deque\n",
      "import networkx as nx\n",
      "\n",
      "q = deque([full_graph[index_of[\"algorithm\"]]])\n",
      "n_nodes = 5000\n",
      "g = nx.Graph()\n",
      "g.add_node(\"algorithm\", node_color='r')\n",
      "\n",
      "while len(q) != 0 and n_nodes >= 0:\n",
      "    top = q.popleft()\n",
      "    n_nodes -= 1\n",
      "    for neighbor, weight in top['result']['topic_imaging']:\n",
      "        g.add_edge(top['query'], neighbor)\n",
      "        q.append(full_graph[index_of[neighbor]])\n",
      "print(\"Done\")"
     ],
     "language": "python",
     "metadata": {},
     "outputs": [
      {
       "output_type": "stream",
       "stream": "stdout",
       "text": [
        "Done\n"
       ]
      }
     ],
     "prompt_number": 11
    },
    {
     "cell_type": "code",
     "collapsed": false,
     "input": [
      "print(\"Rendering...\")\n",
      "nx.write_dot(g,\"nips_graph.dot\")\n",
      "print(\"Done\")"
     ],
     "language": "python",
     "metadata": {},
     "outputs": [
      {
       "output_type": "stream",
       "stream": "stdout",
       "text": [
        "Rendering...\n",
        "Done\n"
       ]
      }
     ],
     "prompt_number": 7
    },
    {
     "cell_type": "code",
     "collapsed": false,
     "input": [
      "# Command: sfdp -Tpng -Nstyle=filled -Nfillcolor=white -Ecolor=#00000020 -Gratio=fill -Goutputorder=edgesfirst -Goverlap=prism -size=50 nips_graph.dot -o nips_graph.png "
     ],
     "language": "python",
     "metadata": {},
     "outputs": []
    }
   ],
   "metadata": {}
  }
 ]
}