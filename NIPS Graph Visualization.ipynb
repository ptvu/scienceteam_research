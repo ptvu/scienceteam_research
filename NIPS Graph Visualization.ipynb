{
 "metadata": {
  "name": "",
  "signature": "sha256:4d6c2e64f5849bbebd97fc5ace33e792574d58bc1d5a4cddb854493a7eaf42cb"
 },
 "nbformat": 3,
 "nbformat_minor": 0,
 "worksheets": [
  {
   "cells": [
    {
     "cell_type": "code",
     "collapsed": false,
     "input": [
      "# Import data from graph\n",
      "import cPickle as pickle\n",
      "full_graph = pickle.load(open('nips_full_graph.pickle', 'rb'))\n",
      "index_of = dict([(value['query'], index) for index, value in enumerate(full_graph)])"
     ],
     "language": "python",
     "metadata": {},
     "outputs": [],
     "prompt_number": 14
    },
    {
     "cell_type": "code",
     "collapsed": false,
     "input": [
      "import networkx as nx\n",
      "\n",
      "n_nodes, n_edges = 0, 0\n",
      "\n",
      "print(\"Creating graph...\")\n",
      "g = nx.Graph()\n",
      "\n",
      "# Add nodes\n",
      "for node in full_graph[:]:\n",
      "    g.add_node(node['query'])\n",
      "    g.node[node['query']]['fillcolor']='white'\n",
      "    n_nodes += 1\n",
      "    \n",
      "# Add edges\n",
      "for node in full_graph[:]:\n",
      "    if 'result' not in node.keys():\n",
      "        continue\n",
      "    for neighbor, weight in node['result']['topic_imaging']:\n",
      "        g.add_edge(node['query'], neighbor)\n",
      "        n_edges += 1\n",
      "print(\"Done\")\n",
      "print(n_nodes, n_edges)"
     ],
     "language": "python",
     "metadata": {},
     "outputs": [
      {
       "output_type": "stream",
       "stream": "stdout",
       "text": [
        "Creating graph...\n",
        "Done"
       ]
      },
      {
       "output_type": "stream",
       "stream": "stdout",
       "text": [
        "\n",
        "(12419, 123570)\n"
       ]
      }
     ],
     "prompt_number": 15
    },
    {
     "cell_type": "code",
     "collapsed": false,
     "input": [
      "print(\"Rendering...\")\n",
      "nx.write_dot(g,\"nips_graph.dot\")\n",
      "print(\"Done\")"
     ],
     "language": "python",
     "metadata": {},
     "outputs": [
      {
       "output_type": "stream",
       "stream": "stdout",
       "text": [
        "Rendering...\n",
        "Done"
       ]
      },
      {
       "output_type": "stream",
       "stream": "stdout",
       "text": [
        "\n"
       ]
      }
     ],
     "prompt_number": 16
    },
    {
     "cell_type": "code",
     "collapsed": false,
     "input": [],
     "language": "python",
     "metadata": {},
     "outputs": []
    },
    {
     "cell_type": "code",
     "collapsed": false,
     "input": [],
     "language": "python",
     "metadata": {},
     "outputs": []
    }
   ],
   "metadata": {}
  }
 ]
}